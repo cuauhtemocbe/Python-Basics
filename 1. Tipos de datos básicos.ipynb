{
  "cells": [
    {
      "cell_type": "markdown",
      "metadata": {
        "colab_type": "text",
        "id": "view-in-github"
      },
      "source": [
        "<a href=\"https://colab.research.google.com/github/cuauhtemocbe/Python-Basics/blob/main/1.%20Tipos%20de%20datos%20b%C3%A1sicos.ipynb\" target=\"_parent\"><img src=\"https://colab.research.google.com/assets/colab-badge.svg\" alt=\"Open In Colab\"/></a>"
      ]
    },
    {
      "cell_type": "markdown",
      "metadata": {
        "id": "APXg8hLYmKBs"
      },
      "source": [
        "# Tipos de Datos\n",
        "\n",
        "Los tipos de datos son un conjunto de valores con características y propiedades determinadas. \n",
        "\n",
        "Los datos básicos son:\n",
        "\n",
        "1. **Booleanos :** *bool* = True, False\n",
        "2. **Númericos:**\n",
        "  - **Enteros :** *int* = 10\n",
        "  - **Flotantes :** *float* = 10.4\n",
        "3. **Cadenas de caracteres:** *str* = \"Hola, mundo!\""
      ]
    },
    {
      "cell_type": "markdown",
      "metadata": {
        "id": "oxkzSu-A4IXf"
      },
      "source": [
        "# Variables\n",
        "\n",
        "Es una **\"caja\"** en la que podemos guardar un valor. Esta **\"caja\"** tiene un espacio en la memoria.\n",
        "\n",
        "Se pueden represtarn con letras, palabras completas. Ej.\n",
        "```\n",
        "- x = 1 -> esto es un entero o int\n",
        "- precio_dolar = 19.94 -> esto es un flotante o float\n",
        "- capital_mexico = \"cdmx\" -> texto o str\n",
        "- bebo_poco = True -> boleano o bool\n",
        "```\n",
        "\n",
        "**Nombres NO válidos:**\n",
        "\n",
        "- Números: 1, 2, 3, ..., n\n",
        "- Palabras **reservadas** o **integradas** (built-in) en Python: str, int, float, print"
      ]
    },
    {
      "cell_type": "markdown",
      "metadata": {
        "id": "S-YitxWB4LJ_"
      },
      "source": [
        "# Funciones\n",
        "Son instrucciones de código reutilizables que llevan a cabo una tarea en particular\n",
        "\n",
        "1. **type** - Regresa el tipo de dato del objeto\n",
        "2. **print** - Función que envía la información solicitada a la ventana de consola"
      ]
    },
    {
      "cell_type": "markdown",
      "metadata": {
        "id": "XYfFbvFx4RCk"
      },
      "source": [
        "# Lab: Tipos de Datos"
      ]
    },
    {
      "cell_type": "markdown",
      "metadata": {
        "id": "lSptwM-1uJpF"
      },
      "source": [
        "## Tipo int"
      ]
    },
    {
      "cell_type": "code",
      "execution_count": 6,
      "metadata": {
        "id": "ddr_Tf7HtPsp"
      },
      "outputs": [
        {
          "name": "stdout",
          "output_type": "stream",
          "text": [
            "hello world\n"
          ]
        }
      ],
      "source": [
        "print(\"hello world\")\n",
        "entero_2 = 1234\n",
        "entero = 124 # int"
      ]
    },
    {
      "cell_type": "code",
      "execution_count": 2,
      "metadata": {
        "id": "xO1Mzw9ytZjU"
      },
      "outputs": [
        {
          "name": "stdout",
          "output_type": "stream",
          "text": [
            "124\n",
            "124\n"
          ]
        }
      ],
      "source": [
        "print(entero)\n",
        "print(entero)"
      ]
    },
    {
      "cell_type": "code",
      "execution_count": 3,
      "metadata": {
        "id": "GuLtDXTGtdDM"
      },
      "outputs": [
        {
          "name": "stdout",
          "output_type": "stream",
          "text": [
            "<class 'int'>\n"
          ]
        }
      ],
      "source": [
        "print(type(entero))"
      ]
    },
    {
      "cell_type": "markdown",
      "metadata": {
        "id": "OxlrU3cyuMmk"
      },
      "source": [
        "## Tipo float"
      ]
    },
    {
      "cell_type": "code",
      "execution_count": 4,
      "metadata": {
        "id": "z3lbzYrGtrwA"
      },
      "outputs": [],
      "source": [
        "dolar = 19.94"
      ]
    },
    {
      "cell_type": "code",
      "execution_count": null,
      "metadata": {
        "id": "sL3quT1ptutM"
      },
      "outputs": [],
      "source": [
        "print(dolar)"
      ]
    },
    {
      "cell_type": "code",
      "execution_count": null,
      "metadata": {
        "id": "t2JeNBCkt1B2"
      },
      "outputs": [],
      "source": [
        "print(type(dolar))"
      ]
    },
    {
      "cell_type": "markdown",
      "metadata": {
        "id": "FJwbKG4guSDd"
      },
      "source": [
        "## Tipo bool"
      ]
    },
    {
      "cell_type": "code",
      "execution_count": null,
      "metadata": {
        "id": "CRTByLzbt4Kx"
      },
      "outputs": [],
      "source": [
        "bebo_poco = True"
      ]
    },
    {
      "cell_type": "code",
      "execution_count": null,
      "metadata": {
        "id": "AVcjHGWYt_cr"
      },
      "outputs": [],
      "source": [
        "print(bebo_poco)"
      ]
    },
    {
      "cell_type": "code",
      "execution_count": null,
      "metadata": {
        "id": "J7o4Fm3XuA_D"
      },
      "outputs": [],
      "source": [
        "print(type(bebo_poco))"
      ]
    },
    {
      "cell_type": "markdown",
      "metadata": {
        "id": "J8xuyvN2uUj1"
      },
      "source": [
        "## Tipo str"
      ]
    },
    {
      "cell_type": "code",
      "execution_count": null,
      "metadata": {
        "id": "PQw5jCwPuWGl"
      },
      "outputs": [],
      "source": [
        "capital_mexico = \"cdmx\""
      ]
    },
    {
      "cell_type": "code",
      "execution_count": null,
      "metadata": {
        "id": "XHG6ikRauZVA"
      },
      "outputs": [],
      "source": [
        "capital_mexico = 'cdmx'"
      ]
    },
    {
      "cell_type": "code",
      "execution_count": null,
      "metadata": {
        "id": "A6zHpvkmubol"
      },
      "outputs": [],
      "source": [
        "print(capital_mexico)"
      ]
    },
    {
      "cell_type": "code",
      "execution_count": null,
      "metadata": {
        "id": "KRDly-fduld2"
      },
      "outputs": [],
      "source": [
        "print(type(capital_mexico))"
      ]
    },
    {
      "cell_type": "markdown",
      "metadata": {
        "id": "F9PEnVRIxlaR"
      },
      "source": [
        "## Casteo\n",
        "\n",
        "Nos permite convertir de un tipo de dato a otro. Para ello usamos **constructor functions**:\n",
        "- int()\n",
        "- float()\n",
        "- str()\n",
        "\n",
        "**Nota:** En el código de arriba, nota que al ser funciones, se necesita paréntesis."
      ]
    },
    {
      "cell_type": "code",
      "execution_count": null,
      "metadata": {
        "id": "PWxOFceWx_y0"
      },
      "outputs": [],
      "source": [
        "x = '2'\n",
        "print(x)"
      ]
    },
    {
      "cell_type": "code",
      "execution_count": null,
      "metadata": {
        "id": "NUeZMwpxyfXl"
      },
      "outputs": [],
      "source": [
        "print(x * 3)"
      ]
    },
    {
      "cell_type": "code",
      "execution_count": null,
      "metadata": {
        "id": "Ha0tjbqoyCvv"
      },
      "outputs": [],
      "source": [
        "x_int = int(x)"
      ]
    },
    {
      "cell_type": "code",
      "execution_count": null,
      "metadata": {
        "id": "mGw9W3qfylp4"
      },
      "outputs": [],
      "source": [
        "print(x_int)"
      ]
    },
    {
      "cell_type": "code",
      "execution_count": null,
      "metadata": {
        "id": "UnGRXuy4yGvu"
      },
      "outputs": [],
      "source": [
        "print(type(x_int))"
      ]
    },
    {
      "cell_type": "code",
      "execution_count": null,
      "metadata": {
        "id": "MrBK1IYm5TGP"
      },
      "outputs": [],
      "source": [
        "dolar = float(19.94)"
      ]
    },
    {
      "cell_type": "code",
      "execution_count": null,
      "metadata": {
        "id": "EhGW3xJg5XA_"
      },
      "outputs": [],
      "source": [
        "print(type(dolar))"
      ]
    },
    {
      "cell_type": "markdown",
      "metadata": {
        "id": "F-qys6ulAg-0"
      },
      "source": [
        "# Variables"
      ]
    },
    {
      "cell_type": "code",
      "execution_count": null,
      "metadata": {
        "id": "W0D7vW_3Ak-F"
      },
      "outputs": [],
      "source": [
        "texto = \"Hola Mundo\" # Cadenas de caracteres o str\n",
        "type(texto) # comprobar tipo de dato"
      ]
    },
    {
      "cell_type": "code",
      "execution_count": null,
      "metadata": {
        "id": "LaUSuCUNAmA9"
      },
      "outputs": [],
      "source": [
        "numero: int = 23 # número entero\n",
        "type(numero) # comprobar tipo de dato"
      ]
    },
    {
      "cell_type": "code",
      "execution_count": null,
      "metadata": {
        "id": "5b_K7qIbAnOi"
      },
      "outputs": [],
      "source": [
        "flotante = 23.01 # número flotante \n",
        "type(flotante) # comprobar tipo de dato"
      ]
    },
    {
      "cell_type": "markdown",
      "metadata": {
        "id": "reB7ttmkAoZm"
      },
      "source": [
        "### Asignación de múltiples valores a múltiples variables"
      ]
    },
    {
      "cell_type": "code",
      "execution_count": null,
      "metadata": {
        "id": "DwhEjBERAqHl"
      },
      "outputs": [],
      "source": [
        "a = 5\n",
        "b = 3.2\n",
        "c = \"Hola\"\n",
        "\n",
        "print(a, type(a))\n",
        "print(b, type(b))\n",
        "print(c, type(c))"
      ]
    },
    {
      "cell_type": "code",
      "execution_count": null,
      "metadata": {
        "id": "UssWh5ZwAtEs"
      },
      "outputs": [],
      "source": [
        "a, b, c = 5, 3.2, \"Hola\" \n",
        "\n",
        "print(a, type(a))\n",
        "print(b, type(b))\n",
        "print(c, type(c))"
      ]
    },
    {
      "cell_type": "markdown",
      "metadata": {
        "id": "k0nvWAnHAw0g"
      },
      "source": [
        "Asignar el mismo valor a múltiples variables"
      ]
    },
    {
      "cell_type": "code",
      "execution_count": null,
      "metadata": {
        "id": "qSgCErHRAx0O"
      },
      "outputs": [],
      "source": [
        "x = True\n",
        "y = True\n",
        "z = True\n",
        "\n",
        "print(x, y, z, type(x), type(y), type(z))"
      ]
    },
    {
      "cell_type": "code",
      "execution_count": null,
      "metadata": {
        "id": "pJl0WIjJA0Dc"
      },
      "outputs": [],
      "source": [
        "x = 'letra'\n",
        "y = 'letra'\n",
        "z = 'letra'\n",
        "\n",
        "print(x, y, z, type(x), type(y), type(z))"
      ]
    },
    {
      "cell_type": "code",
      "execution_count": null,
      "metadata": {
        "id": "weINxEl5A2VV"
      },
      "outputs": [],
      "source": [
        "x = y = z = 'letra'\n",
        "print(x, y, z, type(x), type(y), type(z))"
      ]
    },
    {
      "cell_type": "markdown",
      "metadata": {
        "id": "dgLSTW9uBrfp"
      },
      "source": [
        "# Ejercicios"
      ]
    },
    {
      "cell_type": "markdown",
      "metadata": {
        "id": "-Y0wTrxtB7P4"
      },
      "source": [
        "1. Crea la variable `hello_world` y asignale el valor `\"Hello, world!\"`. ¿Qué tipo de dato es?"
      ]
    },
    {
      "cell_type": "code",
      "execution_count": null,
      "metadata": {
        "id": "HXmRmyIwB5oO"
      },
      "outputs": [],
      "source": [
        "# Aquí va tu código"
      ]
    },
    {
      "cell_type": "markdown",
      "metadata": {
        "id": "fDRDn2rbB9y3"
      },
      "source": [
        "2. **Dato final** <br>\n",
        "a) Crea la variable `numero_ocho` y asignale el valor `\"8\"` (**Observa** que el valor ocho se encuentra entre comillas). <br>\n",
        "b) Realiza un **casteo**, para convertir un *string* a *integer*. <br>\n",
        "c) Usa la función *type* y verifica que sea de tipo **int**"
      ]
    },
    {
      "cell_type": "code",
      "execution_count": null,
      "metadata": {
        "id": "FGSoGtKGB9Cx"
      },
      "outputs": [],
      "source": [
        "# Aquí va tu código"
      ]
    },
    {
      "cell_type": "markdown",
      "metadata": {
        "id": "LRFndVgzCCa3"
      },
      "source": [
        "3. Crea tres variables y nombralas como quieras. \n",
        "Asignales un valor tal que sumados den 13."
      ]
    },
    {
      "cell_type": "code",
      "execution_count": null,
      "metadata": {
        "id": "zpUvU1SHCEO2"
      },
      "outputs": [],
      "source": [
        "# Aquí va tu código"
      ]
    },
    {
      "cell_type": "markdown",
      "metadata": {
        "id": "rMzb8RmgCHRQ"
      },
      "source": [
        "4. Crea una variable de tipo *bool*"
      ]
    },
    {
      "cell_type": "code",
      "execution_count": null,
      "metadata": {
        "id": "2cb5LeWGCGki"
      },
      "outputs": [],
      "source": [
        "# Aquí va tu código"
      ]
    },
    {
      "cell_type": "markdown",
      "metadata": {
        "id": "2ft6Oe_7CJwh"
      },
      "source": [
        "5. **Doble Casteo** <br>\n",
        "Convierte el string `\"2.0\"` a integer<br>\n",
        "a) Crea una variable de tipo str,<br>\n",
        "b) Realiza un casteo para convertirlo a tipo float, <br>\n",
        "c) y finalmente realiza otro casteo a tipo int"
      ]
    },
    {
      "cell_type": "code",
      "execution_count": null,
      "metadata": {
        "id": "4SrdKt9KMp5E"
      },
      "outputs": [],
      "source": [
        "# Aquí va tu código"
      ]
    }
  ],
  "metadata": {
    "colab": {
      "authorship_tag": "ABX9TyOf97UJNqKl1xsM6C1ZJL5h",
      "collapsed_sections": [],
      "include_colab_link": true,
      "mount_file_id": "1M0Bi6-x7TXZcIIGK32q-v4kPDE7QbWVL",
      "provenance": []
    },
    "kernelspec": {
      "display_name": "Python 3",
      "name": "python3"
    },
    "language_info": {
      "codemirror_mode": {
        "name": "ipython",
        "version": 3
      },
      "file_extension": ".py",
      "mimetype": "text/x-python",
      "name": "python",
      "nbconvert_exporter": "python",
      "pygments_lexer": "ipython3",
      "version": "3.10.12"
    }
  },
  "nbformat": 4,
  "nbformat_minor": 0
}
