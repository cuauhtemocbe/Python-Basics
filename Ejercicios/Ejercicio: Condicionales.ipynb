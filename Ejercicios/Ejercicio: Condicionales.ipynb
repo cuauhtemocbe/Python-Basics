{
  "nbformat": 4,
  "nbformat_minor": 0,
  "metadata": {
    "colab": {
      "provenance": [],
      "authorship_tag": "ABX9TyNur/CXS7zSH8n6I4hEWewO",
      "include_colab_link": true
    },
    "kernelspec": {
      "name": "python3",
      "display_name": "Python 3"
    },
    "language_info": {
      "name": "python"
    }
  },
  "cells": [
    {
      "cell_type": "markdown",
      "metadata": {
        "id": "view-in-github",
        "colab_type": "text"
      },
      "source": [
        "<a href=\"https://colab.research.google.com/github/cuauhtemocbe/Python-Basics/blob/main/Ejercicios/Ejercicio%3A%20Condicionales.ipynb\" target=\"_parent\"><img src=\"https://colab.research.google.com/assets/colab-badge.svg\" alt=\"Open In Colab\"/></a>"
      ]
    },
    {
      "cell_type": "markdown",
      "source": [
        "# Este es un test"
      ],
      "metadata": {
        "id": "nD3_k5i-T9vM"
      }
    },
    {
      "cell_type": "markdown",
      "source": [
        "# Ejercicios con condicionales"
      ],
      "metadata": {
        "id": "JnAaAHKbtTkr"
      }
    },
    {
      "cell_type": "markdown",
      "source": [
        "1. Impuestos\n",
        "Los tramos impositivos para la declaración de ingresos son los siguientes:\n"
      ],
      "metadata": {
        "id": "fbz409a_tWyY"
      }
    },
    {
      "cell_type": "code",
      "execution_count": null,
      "metadata": {
        "id": "d884EGfGtR3z",
        "colab": {
          "base_uri": "https://localhost:8080/",
          "height": 175
        },
        "outputId": "7a54ff2c-c68f-4fdc-af4e-1dad0e2bb95e"
      },
      "outputs": [
        {
          "output_type": "execute_result",
          "data": {
            "text/plain": [
              "              Ingresos Tasa impositiva\n",
              "1       Menos de 1,000             5 %\n",
              "2  Entre 1,000 y 2,000            15 %\n",
              "3  Entre 2,000 y 3,000            20 %\n",
              "4         Más de 3,000            30 %"
            ],
            "text/html": [
              "\n",
              "  <div id=\"df-6473e10f-20f7-48d0-b4c7-d22f1f47b86f\">\n",
              "    <div class=\"colab-df-container\">\n",
              "      <div>\n",
              "<style scoped>\n",
              "    .dataframe tbody tr th:only-of-type {\n",
              "        vertical-align: middle;\n",
              "    }\n",
              "\n",
              "    .dataframe tbody tr th {\n",
              "        vertical-align: top;\n",
              "    }\n",
              "\n",
              "    .dataframe thead th {\n",
              "        text-align: right;\n",
              "    }\n",
              "</style>\n",
              "<table border=\"1\" class=\"dataframe\">\n",
              "  <thead>\n",
              "    <tr style=\"text-align: right;\">\n",
              "      <th></th>\n",
              "      <th>Ingresos</th>\n",
              "      <th>Tasa impositiva</th>\n",
              "    </tr>\n",
              "  </thead>\n",
              "  <tbody>\n",
              "    <tr>\n",
              "      <th>1</th>\n",
              "      <td>Menos de 1,000</td>\n",
              "      <td>5 %</td>\n",
              "    </tr>\n",
              "    <tr>\n",
              "      <th>2</th>\n",
              "      <td>Entre 1,000 y 2,000</td>\n",
              "      <td>15 %</td>\n",
              "    </tr>\n",
              "    <tr>\n",
              "      <th>3</th>\n",
              "      <td>Entre 2,000 y 3,000</td>\n",
              "      <td>20 %</td>\n",
              "    </tr>\n",
              "    <tr>\n",
              "      <th>4</th>\n",
              "      <td>Más de 3,000</td>\n",
              "      <td>30 %</td>\n",
              "    </tr>\n",
              "  </tbody>\n",
              "</table>\n",
              "</div>\n",
              "      <button class=\"colab-df-convert\" onclick=\"convertToInteractive('df-6473e10f-20f7-48d0-b4c7-d22f1f47b86f')\"\n",
              "              title=\"Convert this dataframe to an interactive table.\"\n",
              "              style=\"display:none;\">\n",
              "        \n",
              "  <svg xmlns=\"http://www.w3.org/2000/svg\" height=\"24px\"viewBox=\"0 0 24 24\"\n",
              "       width=\"24px\">\n",
              "    <path d=\"M0 0h24v24H0V0z\" fill=\"none\"/>\n",
              "    <path d=\"M18.56 5.44l.94 2.06.94-2.06 2.06-.94-2.06-.94-.94-2.06-.94 2.06-2.06.94zm-11 1L8.5 8.5l.94-2.06 2.06-.94-2.06-.94L8.5 2.5l-.94 2.06-2.06.94zm10 10l.94 2.06.94-2.06 2.06-.94-2.06-.94-.94-2.06-.94 2.06-2.06.94z\"/><path d=\"M17.41 7.96l-1.37-1.37c-.4-.4-.92-.59-1.43-.59-.52 0-1.04.2-1.43.59L10.3 9.45l-7.72 7.72c-.78.78-.78 2.05 0 2.83L4 21.41c.39.39.9.59 1.41.59.51 0 1.02-.2 1.41-.59l7.78-7.78 2.81-2.81c.8-.78.8-2.07 0-2.86zM5.41 20L4 18.59l7.72-7.72 1.47 1.35L5.41 20z\"/>\n",
              "  </svg>\n",
              "      </button>\n",
              "      \n",
              "  <style>\n",
              "    .colab-df-container {\n",
              "      display:flex;\n",
              "      flex-wrap:wrap;\n",
              "      gap: 12px;\n",
              "    }\n",
              "\n",
              "    .colab-df-convert {\n",
              "      background-color: #E8F0FE;\n",
              "      border: none;\n",
              "      border-radius: 50%;\n",
              "      cursor: pointer;\n",
              "      display: none;\n",
              "      fill: #1967D2;\n",
              "      height: 32px;\n",
              "      padding: 0 0 0 0;\n",
              "      width: 32px;\n",
              "    }\n",
              "\n",
              "    .colab-df-convert:hover {\n",
              "      background-color: #E2EBFA;\n",
              "      box-shadow: 0px 1px 2px rgba(60, 64, 67, 0.3), 0px 1px 3px 1px rgba(60, 64, 67, 0.15);\n",
              "      fill: #174EA6;\n",
              "    }\n",
              "\n",
              "    [theme=dark] .colab-df-convert {\n",
              "      background-color: #3B4455;\n",
              "      fill: #D2E3FC;\n",
              "    }\n",
              "\n",
              "    [theme=dark] .colab-df-convert:hover {\n",
              "      background-color: #434B5C;\n",
              "      box-shadow: 0px 1px 3px 1px rgba(0, 0, 0, 0.15);\n",
              "      filter: drop-shadow(0px 1px 2px rgba(0, 0, 0, 0.3));\n",
              "      fill: #FFFFFF;\n",
              "    }\n",
              "  </style>\n",
              "\n",
              "      <script>\n",
              "        const buttonEl =\n",
              "          document.querySelector('#df-6473e10f-20f7-48d0-b4c7-d22f1f47b86f button.colab-df-convert');\n",
              "        buttonEl.style.display =\n",
              "          google.colab.kernel.accessAllowed ? 'block' : 'none';\n",
              "\n",
              "        async function convertToInteractive(key) {\n",
              "          const element = document.querySelector('#df-6473e10f-20f7-48d0-b4c7-d22f1f47b86f');\n",
              "          const dataTable =\n",
              "            await google.colab.kernel.invokeFunction('convertToInteractive',\n",
              "                                                     [key], {});\n",
              "          if (!dataTable) return;\n",
              "\n",
              "          const docLinkHtml = 'Like what you see? Visit the ' +\n",
              "            '<a target=\"_blank\" href=https://colab.research.google.com/notebooks/data_table.ipynb>data table notebook</a>'\n",
              "            + ' to learn more about interactive tables.';\n",
              "          element.innerHTML = '';\n",
              "          dataTable['output_type'] = 'display_data';\n",
              "          await google.colab.output.renderOutput(dataTable, element);\n",
              "          const docLink = document.createElement('div');\n",
              "          docLink.innerHTML = docLinkHtml;\n",
              "          element.appendChild(docLink);\n",
              "        }\n",
              "      </script>\n",
              "    </div>\n",
              "  </div>\n",
              "  "
            ]
          },
          "metadata": {},
          "execution_count": 1
        }
      ],
      "source": [
        "import pandas as pd\n",
        "pd.DataFrame(columns=['Ingresos', 'Tasa impositiva'],\n",
        "             index=[1, 2, 3, 4],\n",
        "             data=[['Menos de 1,000', '5 %'],\n",
        "                   ['Entre 1,000 y 2,000', '15 %'],\n",
        "                   ['Entre 2,000 y 3,000', '20 %'],\n",
        "                   ['Más de 3,000', '30 %']])"
      ]
    },
    {
      "cell_type": "markdown",
      "source": [
        "Escribir un programa calcule el total de impuesto a pagar en función de la renta anual. <br>\n",
        "\n",
        "1. Usa la función input para solicitar el ingreso del usuario\n",
        "2. Usa las sentencias condicionales (if, elif, else) para crear el flujo\n",
        "3. Realiza la operación para obtener el total de impuestos a pagar\n",
        "4. Imprime los resultados"
      ],
      "metadata": {
        "id": "dy-Wovb6DuNL"
      }
    },
    {
      "cell_type": "code",
      "source": [],
      "metadata": {
        "id": "H2lBtQ9YFV0d"
      },
      "execution_count": null,
      "outputs": []
    },
    {
      "cell_type": "markdown",
      "source": [
        "2. Clasificación de climas <br>\n",
        "Los climas se pueden clasificar de acuerdo a la precipitación anual y la temperatura media.\n",
        "\n",
        "Genera un programa que ayude a automatizar la clasficacion del clima de acuerdo a:\n",
        "\n",
        "a) **Clima seco:**  precipitaciones de 300 a 600 mm. anuales y con temperaturas de 22° a 26° C. <br>\n",
        "b) **Clima muy seco:** temperaturas promedio de 18° a 22°C con precipitaciones anuales de 100 a 300 mm. <br>\n",
        "c) **Clima cálido húmedo:**  Tienen temperatura media anual entre 22° y 26°C. Las precipitaciones se encuentran entre 2,000 a 4,000 mm anuales.<br>\n",
        "d) **Clima cálido subhúmedo:** y registran precipitaciones entre 1,000 y 2,000 mm anuales, con  temperaturas que oscilan de 22° y 26°C. <br>\n",
        "e) **Clima templado húmedo:** registran temperaturas entre 18° y 22°C y precipitaciones en promedio de 2,000 a 4,000 mm anuales. <br>\n",
        "f) **Clima templado subhúmedo:** Observa en su mayoría temperaturas entre 10° y 22°C, sin embargo en algunas regiones puede disminuir a menos de 10°C; registra precipitaciones de 600 a 1,000 mm."
      ],
      "metadata": {
        "id": "xcUFRx87IL4A"
      }
    },
    {
      "cell_type": "code",
      "source": [],
      "metadata": {
        "id": "xFIrhwDdqRW9"
      },
      "execution_count": null,
      "outputs": []
    },
    {
      "cell_type": "code",
      "source": [],
      "metadata": {
        "id": "NcWGqp-hqR9n"
      },
      "execution_count": null,
      "outputs": []
    },
    {
      "cell_type": "code",
      "source": [],
      "metadata": {
        "id": "lRygXlb4qSrO"
      },
      "execution_count": null,
      "outputs": []
    },
    {
      "cell_type": "markdown",
      "source": [
        "3. Palabras especiales  <br>\n",
        "Escribe un programa que separe las palabras que son impares e inicien con una consontante, y las palabras que son pares e inicien con una vocal.\n",
        "> a) Obten la longitud (número letras) de la palabra. Usa la función len. <br>\n",
        "b) Identifica si la palabra es par o impar <br>\n",
        "c) Identifica si la palabra inicia con consonante o vocal. Usa el método startswith. <br>\n",
        "d) Desarrolla tu flujo con los condicionales"
      ],
      "metadata": {
        "id": "VILeEBkOEO3t"
      }
    },
    {
      "cell_type": "code",
      "source": [],
      "metadata": {
        "id": "kXurUSbrE-Zg"
      },
      "execution_count": null,
      "outputs": []
    }
  ]
}