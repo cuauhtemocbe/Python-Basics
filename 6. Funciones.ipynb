{
  "nbformat": 4,
  "nbformat_minor": 0,
  "metadata": {
    "colab": {
      "provenance": [],
      "authorship_tag": "ABX9TyMa45Rnszj/skHIjJVZQqle",
      "include_colab_link": true
    },
    "kernelspec": {
      "name": "python3",
      "display_name": "Python 3"
    },
    "language_info": {
      "name": "python"
    }
  },
  "cells": [
    {
      "cell_type": "markdown",
      "metadata": {
        "id": "view-in-github",
        "colab_type": "text"
      },
      "source": [
        "<a href=\"https://colab.research.google.com/github/cuauhtemocbe/Python-Basics/blob/main/6.%20Funciones.ipynb\" target=\"_parent\"><img src=\"https://colab.research.google.com/assets/colab-badge.svg\" alt=\"Open In Colab\"/></a>"
      ]
    },
    {
      "cell_type": "markdown",
      "metadata": {
        "id": "9Az3MvFf5txL"
      },
      "source": [
        "# Funciones\n",
        "<br>\n",
        "Una función es un bloque de código (grupo de instrucciones) que se ejecuta cuando es llamado.\n",
        "<br><br>\n",
        "Son usada para guardar algún proceso(**algoritmo**) para que regrese que un valor.\n",
        "<br><br>\n",
        "Nos sirven para crear bloques de código y mantener nuestros códigos ordeandos\n",
        "\n",
        "<br>\n",
        "\n",
        "**Ventajas:**\n",
        "\n",
        "- Evitan que repitamos código cada que queramos realizar la misma tarea\n",
        "- Reducen el tamaño de nuestro código\n",
        "- Mejoran la legibilidad\n",
        "- Se reduce el tiempo de codificación (escribir código)\n",
        "- Solo se tiene que escribir una rutina una vez\n",
        "- Reducen el tiempo de depuración\n",
        "- Mejoran la mantenibilidad\n",
        "\n",
        "<br>\n",
        "\n",
        "**Palabras claves:** `def`"
      ]
    },
    {
      "cell_type": "markdown",
      "metadata": {
        "id": "Lh5juNgWlsVR"
      },
      "source": [
        "## Partes de una función\n",
        "\n",
        "1. Inicia con la palabra clave `def` para indicar a Python que vamos a crear una función.\n",
        "2. Es seguida por el nombre de la función (sin espacios).\n",
        "3. Se colocan los paramétros que queremos en nuestra función (es opcional, entonces podemos tener desde 0 parámetros hasta tener \"ilimitados\").\n",
        "4. El cuerpo de la función (bloque de código), inicia en la siguiente línea, utilizando una identación (4 espacios en blanco).\n"
      ]
    },
    {
      "cell_type": "code",
      "metadata": {
        "id": "FNO8zrWcpJhP"
      },
      "source": [
        "def nombre_funcion(argumentos):\n",
        "  # Aquí inicia bloque de código\n",
        "  \"\"\"Imprime el argumento dado\"\"\"\n",
        "  #bloque de código\n",
        "  print('El argumento es:', argumentos)\n",
        "  # Aquí termina el bloque de código"
      ],
      "execution_count": null,
      "outputs": []
    },
    {
      "cell_type": "markdown",
      "metadata": {
        "id": "D66KvV06pQm3"
      },
      "source": [
        "**Nota:**\n",
        "- El nombre de la función deber ser sin espacios\n",
        "- Una función puede ir sin argumentos"
      ]
    },
    {
      "cell_type": "code",
      "metadata": {
        "id": "Yp5SdJWHpSJ0"
      },
      "source": [
        "nombre_funcion(False)"
      ],
      "execution_count": null,
      "outputs": []
    },
    {
      "cell_type": "code",
      "source": [
        "nombre_funcion(123)"
      ],
      "metadata": {
        "id": "hnGKmjWUiOk-"
      },
      "execution_count": null,
      "outputs": []
    },
    {
      "cell_type": "code",
      "source": [
        "nombre_funcion('texto')"
      ],
      "metadata": {
        "id": "qrPIpuMWiRoU"
      },
      "execution_count": null,
      "outputs": []
    },
    {
      "cell_type": "markdown",
      "metadata": {
        "id": "g5Qidvb_h6Np"
      },
      "source": [
        "## Llamando una función\n",
        "Para **llamar** una función ó usarla, escribimos el nombre de la función seguido de paréntesis. Recuerda que si abres paréntesis, debes cerralo."
      ]
    },
    {
      "cell_type": "code",
      "metadata": {
        "id": "gHifXSrOjALz"
      },
      "source": [
        "def mi_primer_funcion():\n",
        "  print(\"Hola, estoy dentro de la función 😎\")"
      ],
      "execution_count": 7,
      "outputs": []
    },
    {
      "cell_type": "markdown",
      "source": [
        "Puedes notar que la función no tiene argumentos."
      ],
      "metadata": {
        "id": "8AE7mxzRiv0l"
      }
    },
    {
      "cell_type": "code",
      "metadata": {
        "id": "aXLXDcEFjJl2",
        "outputId": "93352997-8a6d-4373-f207-fe15ac6ea70c",
        "colab": {
          "base_uri": "https://localhost:8080/"
        }
      },
      "source": [
        "# Llamando la función\n",
        "mi_primer_funcion()"
      ],
      "execution_count": 8,
      "outputs": [
        {
          "output_type": "stream",
          "name": "stdout",
          "text": [
            "Hola, estoy dentro de la función 😎\n"
          ]
        }
      ]
    },
    {
      "cell_type": "code",
      "source": [
        "mi_varible = mi_primer_funcion()"
      ],
      "metadata": {
        "id": "J0PtsU1t672j",
        "outputId": "2a16a19e-4b9f-4ea8-bf36-d266b46f5308",
        "colab": {
          "base_uri": "https://localhost:8080/"
        }
      },
      "execution_count": 9,
      "outputs": [
        {
          "output_type": "stream",
          "name": "stdout",
          "text": [
            "Hola, estoy dentro de la función 😎\n"
          ]
        }
      ]
    },
    {
      "cell_type": "code",
      "source": [
        "otra_variable = 2"
      ],
      "metadata": {
        "id": "61T6Yea17Cjm"
      },
      "execution_count": 11,
      "outputs": []
    },
    {
      "cell_type": "markdown",
      "metadata": {
        "id": "ZwcVvjgIijJS"
      },
      "source": [
        "## Argumentos\n",
        "\n",
        "- Es la información adicional (parámetros) que le pasamos a nuestra función y que necesita para ejecutarse.\n",
        "- Están dentro de los paréntesis (después del nombre).\n",
        "- Podemos agregar todos los argumentos que queramos, separados por coma."
      ]
    },
    {
      "cell_type": "code",
      "source": [
        "def mi_segunda_funcion(nombre):\n",
        "  print('Hola ' + nombre + \", estamos dentro de una función\")"
      ],
      "metadata": {
        "id": "cK12sktH7Ysk"
      },
      "execution_count": 13,
      "outputs": []
    },
    {
      "cell_type": "code",
      "source": [
        "mi_segunda_funcion(\"Jess\")"
      ],
      "metadata": {
        "id": "WkAZcfH17eWd",
        "outputId": "192bb7a4-732d-46e7-c6c4-94c0a798def0",
        "colab": {
          "base_uri": "https://localhost:8080/"
        }
      },
      "execution_count": 16,
      "outputs": [
        {
          "output_type": "stream",
          "name": "stdout",
          "text": [
            "Hola Jess, estamos dentro de una función\n"
          ]
        }
      ]
    },
    {
      "cell_type": "code",
      "metadata": {
        "id": "ZKeEY791cHOw"
      },
      "source": [
        "def mi_segunda_funcion(nombre='Cuau'):\n",
        "  print('Hola ' + nombre + \", estamos dentro de una función. Buenas noches!\")"
      ],
      "execution_count": 21,
      "outputs": []
    },
    {
      "cell_type": "code",
      "metadata": {
        "id": "068Z-fZAFMIy",
        "outputId": "d52c6413-8f9b-4c72-ceef-604e11d74aac",
        "colab": {
          "base_uri": "https://localhost:8080/"
        }
      },
      "source": [
        "mi_segunda_funcion()"
      ],
      "execution_count": 18,
      "outputs": [
        {
          "output_type": "stream",
          "name": "stdout",
          "text": [
            "Hola Cuau, estamos dentro de una función\n"
          ]
        }
      ]
    },
    {
      "cell_type": "code",
      "source": [
        "mi_segunda_funcion(nombre='México')"
      ],
      "metadata": {
        "id": "Um2DP8zFCIXz",
        "outputId": "b047e336-30fb-48e9-e48b-b5c1a502fb03",
        "colab": {
          "base_uri": "https://localhost:8080/"
        }
      },
      "execution_count": 19,
      "outputs": [
        {
          "output_type": "stream",
          "name": "stdout",
          "text": [
            "Hola México, estamos dentro de una función\n"
          ]
        }
      ]
    },
    {
      "cell_type": "code",
      "metadata": {
        "id": "GZh9wPoXFNO4",
        "outputId": "ee785157-aa08-4615-bc28-7714ec068175",
        "colab": {
          "base_uri": "https://localhost:8080/"
        }
      },
      "source": [
        "for name in ['Brenda', 'Violeta', 'Cuau']:\n",
        "  mi_segunda_funcion(name)"
      ],
      "execution_count": 22,
      "outputs": [
        {
          "output_type": "stream",
          "name": "stdout",
          "text": [
            "Hola Brenda, estamos dentro de una función. Buenas noches!\n",
            "Hola Violeta, estamos dentro de una función. Buenas noches!\n",
            "Hola Cuau, estamos dentro de una función. Buenas noches!\n"
          ]
        }
      ]
    },
    {
      "cell_type": "markdown",
      "metadata": {
        "id": "UwknjiPejxDO"
      },
      "source": [
        "# Número de argumentos\n",
        "<br>\n",
        "Una función debería ser llamada con el número correcto de argumentos. Si nuestra función tiene dos argumentos cuando es creada, cuando la llamemos, debería tener dos argumentos."
      ]
    },
    {
      "cell_type": "markdown",
      "metadata": {
        "id": "e8PNETE5qHU2"
      },
      "source": [
        "I. Sin argumentos"
      ]
    },
    {
      "cell_type": "code",
      "metadata": {
        "id": "78Dt86Zxp8l2"
      },
      "source": [
        "def funcion_sin_argumentos():\n",
        "  print('Soy una función sin argumentos :D')"
      ],
      "execution_count": 23,
      "outputs": []
    },
    {
      "cell_type": "code",
      "metadata": {
        "id": "i8mMNZ44qD8J",
        "outputId": "6412cfeb-175c-4425-9a04-1ced04b3020f",
        "colab": {
          "base_uri": "https://localhost:8080/"
        }
      },
      "source": [
        "funcion_sin_argumentos()"
      ],
      "execution_count": 24,
      "outputs": [
        {
          "output_type": "stream",
          "name": "stdout",
          "text": [
            "Soy una función sin argumentos :D\n"
          ]
        }
      ]
    },
    {
      "cell_type": "markdown",
      "metadata": {
        "id": "ZY6b4EKuqKbV"
      },
      "source": [
        "II. Con dos argumentos"
      ]
    },
    {
      "cell_type": "code",
      "metadata": {
        "id": "jgKci9JWjlQo"
      },
      "source": [
        "def otra_funcion(nombre, correo_electronico):\n",
        "  print('El correo de ' + nombre + ' es ' + correo_electronico)"
      ],
      "execution_count": 25,
      "outputs": []
    },
    {
      "cell_type": "code",
      "metadata": {
        "id": "V6YD5nh7kYyV",
        "outputId": "77a28323-335a-4ae2-f61d-a9b8490490e0",
        "colab": {
          "base_uri": "https://localhost:8080/",
          "height": 165
        }
      },
      "source": [
        "otra_funcion(\"Oliver\")"
      ],
      "execution_count": 28,
      "outputs": [
        {
          "output_type": "error",
          "ename": "TypeError",
          "evalue": "ignored",
          "traceback": [
            "\u001b[0;31m---------------------------------------------------------------------------\u001b[0m",
            "\u001b[0;31mTypeError\u001b[0m                                 Traceback (most recent call last)",
            "\u001b[0;32m<ipython-input-28-e7fcb9a64d1f>\u001b[0m in \u001b[0;36m<cell line: 1>\u001b[0;34m()\u001b[0m\n\u001b[0;32m----> 1\u001b[0;31m \u001b[0motra_funcion\u001b[0m\u001b[0;34m(\u001b[0m\u001b[0;34m\"Oliver\"\u001b[0m\u001b[0;34m)\u001b[0m\u001b[0;34m\u001b[0m\u001b[0;34m\u001b[0m\u001b[0m\n\u001b[0m",
            "\u001b[0;31mTypeError\u001b[0m: otra_funcion() missing 1 required positional argument: 'correo_electronico'"
          ]
        }
      ]
    },
    {
      "cell_type": "code",
      "metadata": {
        "id": "Cf06BaaKkdH9",
        "outputId": "047fb9a7-69dd-4608-970e-85ff9411980f",
        "colab": {
          "base_uri": "https://localhost:8080/",
          "height": 165
        }
      },
      "source": [
        "otra_funcion(\"oliver@correo.com.mx\")"
      ],
      "execution_count": 29,
      "outputs": [
        {
          "output_type": "error",
          "ename": "TypeError",
          "evalue": "ignored",
          "traceback": [
            "\u001b[0;31m---------------------------------------------------------------------------\u001b[0m",
            "\u001b[0;31mTypeError\u001b[0m                                 Traceback (most recent call last)",
            "\u001b[0;32m<ipython-input-29-7f74f211d1cf>\u001b[0m in \u001b[0;36m<cell line: 1>\u001b[0;34m()\u001b[0m\n\u001b[0;32m----> 1\u001b[0;31m \u001b[0motra_funcion\u001b[0m\u001b[0;34m(\u001b[0m\u001b[0;34m\"oliver@correo.com.mx\"\u001b[0m\u001b[0;34m)\u001b[0m\u001b[0;34m\u001b[0m\u001b[0;34m\u001b[0m\u001b[0m\n\u001b[0m",
            "\u001b[0;31mTypeError\u001b[0m: otra_funcion() missing 1 required positional argument: 'correo_electronico'"
          ]
        }
      ]
    },
    {
      "cell_type": "code",
      "source": [
        "otra_funcion(correo_electronico=\"oliver@correo.com.mx\")"
      ],
      "metadata": {
        "id": "b1ujhwnUC5Xp",
        "outputId": "530e25c0-4529-462f-f8da-bb003dba8e90",
        "colab": {
          "base_uri": "https://localhost:8080/",
          "height": 165
        }
      },
      "execution_count": 30,
      "outputs": [
        {
          "output_type": "error",
          "ename": "TypeError",
          "evalue": "ignored",
          "traceback": [
            "\u001b[0;31m---------------------------------------------------------------------------\u001b[0m",
            "\u001b[0;31mTypeError\u001b[0m                                 Traceback (most recent call last)",
            "\u001b[0;32m<ipython-input-30-4957a7092085>\u001b[0m in \u001b[0;36m<cell line: 1>\u001b[0;34m()\u001b[0m\n\u001b[0;32m----> 1\u001b[0;31m \u001b[0motra_funcion\u001b[0m\u001b[0;34m(\u001b[0m\u001b[0mcorreo_electronico\u001b[0m\u001b[0;34m=\u001b[0m\u001b[0;34m\"oliver@correo.com.mx\"\u001b[0m\u001b[0;34m)\u001b[0m\u001b[0;34m\u001b[0m\u001b[0;34m\u001b[0m\u001b[0m\n\u001b[0m",
            "\u001b[0;31mTypeError\u001b[0m: otra_funcion() missing 1 required positional argument: 'nombre'"
          ]
        }
      ]
    },
    {
      "cell_type": "code",
      "source": [
        "otra_funcion(\"Oliver\", \"oliver@correo.com.mx\")"
      ],
      "metadata": {
        "id": "MY5iKYGEDB-l",
        "outputId": "e03d2398-f60f-4a7d-e558-28e21848eb46",
        "colab": {
          "base_uri": "https://localhost:8080/"
        }
      },
      "execution_count": 31,
      "outputs": [
        {
          "output_type": "stream",
          "name": "stdout",
          "text": [
            "El correo de Oliver es oliver@correo.com.mx\n"
          ]
        }
      ]
    },
    {
      "cell_type": "code",
      "source": [
        "datos_de_cliente(nombre=\"Oliver\", correo_electronico=\"oliver@correo.com.mx\")"
      ],
      "metadata": {
        "id": "XhJmNhqUDDbR"
      },
      "execution_count": null,
      "outputs": []
    },
    {
      "cell_type": "code",
      "source": [
        "otra_funcion(correo_electronico=\"Oliver\", nombre=\"oliver@correo.com.mx\")"
      ],
      "metadata": {
        "id": "9Krlned0DHBD",
        "outputId": "13ac6dab-ad39-43fa-c267-e29ae8b43f34",
        "colab": {
          "base_uri": "https://localhost:8080/"
        }
      },
      "execution_count": 32,
      "outputs": [
        {
          "output_type": "stream",
          "name": "stdout",
          "text": [
            "El correo de oliver@correo.com.mx es Oliver\n"
          ]
        }
      ]
    },
    {
      "cell_type": "markdown",
      "metadata": {
        "id": "iNv4CGQAqQ_O"
      },
      "source": [
        "**Argumentos \"infinitos\"**\n",
        "<br>\n",
        "Python tiene el parámetro especial *args, para pasar de forma opcional, un número de variables de argumentos posicionales.\n",
        "\n",
        "Palabra clave: **return** envía objetos (números, texto, tablas, funciones, None, boleanos) fuera de la función. Regresa un valor."
      ]
    },
    {
      "cell_type": "code",
      "metadata": {
        "id": "z7rk2dN1qQbY",
        "outputId": "0bb2a899-b794-4517-9339-4d3da64810ff",
        "colab": {
          "base_uri": "https://localhost:8080/"
        }
      },
      "source": [
        "def suma(x, y):\n",
        "    return x + y\n",
        "\n",
        "suma(7, 20)"
      ],
      "execution_count": 34,
      "outputs": [
        {
          "output_type": "execute_result",
          "data": {
            "text/plain": [
              "27"
            ]
          },
          "metadata": {},
          "execution_count": 34
        }
      ]
    },
    {
      "cell_type": "code",
      "source": [
        "resultado = suma(7, 20)"
      ],
      "metadata": {
        "id": "LtUxYn8096lT"
      },
      "execution_count": 36,
      "outputs": []
    },
    {
      "cell_type": "code",
      "metadata": {
        "id": "Z2mX3DBXqyuC",
        "outputId": "c14d685b-4f42-471d-e9fe-fdf0d502bfa6",
        "colab": {
          "base_uri": "https://localhost:8080/",
          "height": 165
        }
      },
      "source": [
        "suma(2, 30, 12)"
      ],
      "execution_count": 40,
      "outputs": [
        {
          "output_type": "error",
          "ename": "TypeError",
          "evalue": "ignored",
          "traceback": [
            "\u001b[0;31m---------------------------------------------------------------------------\u001b[0m",
            "\u001b[0;31mTypeError\u001b[0m                                 Traceback (most recent call last)",
            "\u001b[0;32m<ipython-input-40-d6c2bafa6ef3>\u001b[0m in \u001b[0;36m<cell line: 1>\u001b[0;34m()\u001b[0m\n\u001b[0;32m----> 1\u001b[0;31m \u001b[0msuma\u001b[0m\u001b[0;34m(\u001b[0m\u001b[0;36m2\u001b[0m\u001b[0;34m,\u001b[0m \u001b[0;36m30\u001b[0m\u001b[0;34m,\u001b[0m \u001b[0;36m12\u001b[0m\u001b[0;34m)\u001b[0m\u001b[0;34m\u001b[0m\u001b[0;34m\u001b[0m\u001b[0m\n\u001b[0m",
            "\u001b[0;31mTypeError\u001b[0m: suma() takes 2 positional arguments but 3 were given"
          ]
        }
      ]
    },
    {
      "cell_type": "code",
      "source": [
        "mi_lista = [1, 2, 3]\n",
        "print(mi_lista)\n",
        "print(*mi_lista)"
      ],
      "metadata": {
        "id": "kBp49_QCDc_J",
        "outputId": "64de4b74-53c7-45fc-b9c7-aa01b33deabc",
        "colab": {
          "base_uri": "https://localhost:8080/"
        }
      },
      "execution_count": 41,
      "outputs": [
        {
          "output_type": "stream",
          "name": "stdout",
          "text": [
            "[1, 2, 3]\n",
            "1 2 3\n"
          ]
        }
      ]
    },
    {
      "cell_type": "code",
      "metadata": {
        "id": "DnEDVyZoq1ql"
      },
      "source": [
        "def suma(*numeros):\n",
        "  print(type(numeros))\n",
        "  value = 0\n",
        "  for n in numeros:\n",
        "    value += n\n",
        "  return value"
      ],
      "execution_count": 42,
      "outputs": []
    },
    {
      "cell_type": "code",
      "metadata": {
        "id": "u80ttZDcq_sB",
        "outputId": "30a3b5f4-13cd-4829-911e-06bda879286e",
        "colab": {
          "base_uri": "https://localhost:8080/"
        }
      },
      "source": [
        "suma(2, 30, 12, 2, 5, 10)"
      ],
      "execution_count": 43,
      "outputs": [
        {
          "output_type": "stream",
          "name": "stdout",
          "text": [
            "<class 'tuple'>\n"
          ]
        },
        {
          "output_type": "execute_result",
          "data": {
            "text/plain": [
              "61"
            ]
          },
          "metadata": {},
          "execution_count": 43
        }
      ]
    },
    {
      "cell_type": "markdown",
      "metadata": {
        "id": "OdVoUob7rWVN"
      },
      "source": [
        "Resumiendo:\n",
        "- El símbolo `*` indica a python que habrá _argumentos posicionales variables_. `args` es usado por convención.\n",
        "- El párametro es una _tupla_\n",
        "- Es un párametro _opcional_\n",
        "- Son parámetros _posicionales_ (su valor depende la la posición en que sean pasados a la función)"
      ]
    },
    {
      "cell_type": "markdown",
      "metadata": {
        "id": "hG4X_Vupkv17"
      },
      "source": [
        "# Tipos de argumentos en Python\n",
        "<br>\n",
        "Recordemos que los argumentos, son los valores que nuestra función necesita para ejecutarse (funcionar). Tenemos 5 tipos de argumentos:\n",
        "\n",
        "1. Default (Predeterminado)\n",
        "2. Keyword (Palabra clave)\n",
        "3. Posicional (Posicional)\n",
        "4. Arbitrary positional (Posicional arbitrario)\n",
        "5. Arbitrary keyword (Palabra clave posicional)\n",
        "\n",
        "<br>"
      ]
    },
    {
      "cell_type": "markdown",
      "metadata": {
        "id": "7FtZwwq6tTBG"
      },
      "source": [
        "### Default\n",
        "<br>\n",
        "\n",
        "- Son los valores que utilizados cuando definimos una función.\n",
        "- Si usa el operador `=` para asingar un valor default a un argumento\n",
        "- Puede haber cualquier número de argumentos default"
      ]
    },
    {
      "cell_type": "code",
      "source": [
        "help(round)"
      ],
      "metadata": {
        "id": "Xe3i2geHEfLi",
        "outputId": "7e23af3e-9be3-4b42-d466-3661d93375fa",
        "colab": {
          "base_uri": "https://localhost:8080/"
        }
      },
      "execution_count": 44,
      "outputs": [
        {
          "output_type": "stream",
          "name": "stdout",
          "text": [
            "Help on built-in function round in module builtins:\n",
            "\n",
            "round(number, ndigits=None)\n",
            "    Round a number to a given precision in decimal digits.\n",
            "    \n",
            "    The return value is an integer if ndigits is omitted or None.  Otherwise\n",
            "    the return value has the same type as the number.  ndigits may be negative.\n",
            "\n"
          ]
        }
      ]
    },
    {
      "cell_type": "code",
      "source": [
        "ndigits = None\n",
        "if not ndigits:\n",
        "  ndigits = 0"
      ],
      "metadata": {
        "id": "3Rq2vHQyEm1X"
      },
      "execution_count": 46,
      "outputs": []
    },
    {
      "cell_type": "code",
      "source": [
        "round(3.64)"
      ],
      "metadata": {
        "id": "1AMBCcEW_jD5",
        "outputId": "6e677faa-a644-4945-eefa-e6c4d65a5cda",
        "colab": {
          "base_uri": "https://localhost:8080/"
        }
      },
      "execution_count": 45,
      "outputs": [
        {
          "output_type": "execute_result",
          "data": {
            "text/plain": [
              "4"
            ]
          },
          "metadata": {},
          "execution_count": 45
        }
      ]
    },
    {
      "cell_type": "code",
      "source": [
        "round(3.64, ndigits)"
      ],
      "metadata": {
        "id": "LCltVo6qEZd1",
        "outputId": "194acca9-3532-4170-a81d-b6ad2d21e8d7",
        "colab": {
          "base_uri": "https://localhost:8080/"
        }
      },
      "execution_count": 48,
      "outputs": [
        {
          "output_type": "execute_result",
          "data": {
            "text/plain": [
              "4.0"
            ]
          },
          "metadata": {},
          "execution_count": 48
        }
      ]
    },
    {
      "cell_type": "code",
      "metadata": {
        "id": "Tqxi4BwaohgQ"
      },
      "source": [
        "# Ejemplo\n",
        "def resta(x, y=3):\n",
        "  print(f'x: {x} ; y: {y}')\n",
        "  print(f'Resultado = {x - y}')"
      ],
      "execution_count": 2,
      "outputs": []
    },
    {
      "cell_type": "code",
      "metadata": {
        "id": "uiRvG9RRwFkj",
        "outputId": "a3d3e1d3-ba53-41ed-e898-f334e46f8f05",
        "colab": {
          "base_uri": "https://localhost:8080/"
        }
      },
      "source": [
        "resta(2, 3)"
      ],
      "execution_count": 3,
      "outputs": [
        {
          "output_type": "stream",
          "name": "stdout",
          "text": [
            "x: 2 ; y: 3\n",
            "Resultado = -1\n"
          ]
        }
      ]
    },
    {
      "cell_type": "code",
      "metadata": {
        "id": "dqAK__kPxClJ",
        "outputId": "14df3493-cec3-4cdb-f905-f1001e03f954",
        "colab": {
          "base_uri": "https://localhost:8080/",
          "height": 165
        }
      },
      "source": [
        "resta(2, z=3)"
      ],
      "execution_count": 4,
      "outputs": [
        {
          "output_type": "error",
          "ename": "TypeError",
          "evalue": "ignored",
          "traceback": [
            "\u001b[0;31m---------------------------------------------------------------------------\u001b[0m",
            "\u001b[0;31mTypeError\u001b[0m                                 Traceback (most recent call last)",
            "\u001b[0;32m<ipython-input-4-3e7968eaf17d>\u001b[0m in \u001b[0;36m<cell line: 1>\u001b[0;34m()\u001b[0m\n\u001b[0;32m----> 1\u001b[0;31m \u001b[0mresta\u001b[0m\u001b[0;34m(\u001b[0m\u001b[0;36m2\u001b[0m\u001b[0;34m,\u001b[0m \u001b[0mz\u001b[0m\u001b[0;34m=\u001b[0m\u001b[0;36m3\u001b[0m\u001b[0;34m)\u001b[0m\u001b[0;34m\u001b[0m\u001b[0;34m\u001b[0m\u001b[0m\n\u001b[0m",
            "\u001b[0;31mTypeError\u001b[0m: resta() got an unexpected keyword argument 'z'"
          ]
        }
      ]
    },
    {
      "cell_type": "code",
      "metadata": {
        "id": "NrrNzlJWwHsg",
        "outputId": "e42109f3-a097-450b-b667-7fab955fa50d",
        "colab": {
          "base_uri": "https://localhost:8080/",
          "height": 165
        }
      },
      "source": [
        "resta()"
      ],
      "execution_count": 5,
      "outputs": [
        {
          "output_type": "error",
          "ename": "TypeError",
          "evalue": "ignored",
          "traceback": [
            "\u001b[0;31m---------------------------------------------------------------------------\u001b[0m",
            "\u001b[0;31mTypeError\u001b[0m                                 Traceback (most recent call last)",
            "\u001b[0;32m<ipython-input-5-6d2da7c12523>\u001b[0m in \u001b[0;36m<cell line: 1>\u001b[0;34m()\u001b[0m\n\u001b[0;32m----> 1\u001b[0;31m \u001b[0mresta\u001b[0m\u001b[0;34m(\u001b[0m\u001b[0;34m)\u001b[0m\u001b[0;34m\u001b[0m\u001b[0;34m\u001b[0m\u001b[0m\n\u001b[0m",
            "\u001b[0;31mTypeError\u001b[0m: resta() missing 1 required positional argument: 'x'"
          ]
        }
      ]
    },
    {
      "cell_type": "code",
      "metadata": {
        "id": "KfEsR1wCwN72",
        "outputId": "a6f062d5-f2bf-4bf7-9f52-5ef9bd8c44a7",
        "colab": {
          "base_uri": "https://localhost:8080/"
        }
      },
      "source": [
        "resta(4)"
      ],
      "execution_count": 6,
      "outputs": [
        {
          "output_type": "stream",
          "name": "stdout",
          "text": [
            "x: 4 ; y: 3\n",
            "Resultado = 1\n"
          ]
        }
      ]
    },
    {
      "cell_type": "code",
      "metadata": {
        "id": "CEDPA1y5wRNa"
      },
      "source": [
        "resta(y=2)"
      ],
      "execution_count": null,
      "outputs": []
    },
    {
      "cell_type": "code",
      "metadata": {
        "id": "7NWnjEfYwJIp"
      },
      "source": [
        "resta(y=3, x=2)"
      ],
      "execution_count": null,
      "outputs": []
    },
    {
      "cell_type": "code",
      "metadata": {
        "id": "v-Kl6WYWwHIh"
      },
      "source": [
        "resta(3, 2)"
      ],
      "execution_count": null,
      "outputs": []
    },
    {
      "cell_type": "markdown",
      "metadata": {
        "id": "Uk7JL8F8wndI"
      },
      "source": [
        "## Keyword arguments\n",
        "\n",
        "<br>\n",
        "\n",
        "Cuando declaramos un parámetro mediante un **keyword argument** usaremos `karg = value`.\n",
        "\n",
        "<br>\n",
        "\n",
        "Cuando llamamos una función, los valores que pasemos a través de los argumentos, no necesitan estar en orden."
      ]
    },
    {
      "cell_type": "code",
      "metadata": {
        "id": "LfigTA6fwgt2"
      },
      "source": [
        "# Ejemplo\n",
        "def resta(x=2, y=3):\n",
        "  print(f'x: {x} ; y: {y}')\n",
        "  print(f'Resultado = {x - y}')"
      ],
      "execution_count": null,
      "outputs": []
    },
    {
      "cell_type": "code",
      "metadata": {
        "id": "6HLBbRbYzSfa"
      },
      "source": [
        "resta(y=3, x=2)"
      ],
      "execution_count": null,
      "outputs": []
    },
    {
      "cell_type": "code",
      "metadata": {
        "id": "_d0dh6HVzV0z"
      },
      "source": [
        "resta(y=1, x=4)"
      ],
      "execution_count": null,
      "outputs": []
    },
    {
      "cell_type": "code",
      "metadata": {
        "id": "gNYjdUrozYtL"
      },
      "source": [
        "resta(1, 4)"
      ],
      "execution_count": null,
      "outputs": []
    },
    {
      "cell_type": "code",
      "metadata": {
        "id": "GQrZ26ftzcLT"
      },
      "source": [
        "resta()"
      ],
      "execution_count": null,
      "outputs": []
    },
    {
      "cell_type": "markdown",
      "metadata": {
        "id": "z8I3r67azjdz"
      },
      "source": [
        "## Positional Arguments\n",
        "\n",
        "<br>\n",
        "\n",
        "Son los argumentos en los que el orden importa."
      ]
    },
    {
      "cell_type": "code",
      "metadata": {
        "id": "q5t2pQHtzi1W"
      },
      "source": [
        "# Ejemplo\n",
        "def resta(x, y):\n",
        "  print(f'x: {x} ; y: {y}')\n",
        "  print(f'Resultado = {x - y}')"
      ],
      "execution_count": null,
      "outputs": []
    },
    {
      "cell_type": "code",
      "metadata": {
        "id": "Ru_qSKhCzhiD"
      },
      "source": [
        "resta()"
      ],
      "execution_count": null,
      "outputs": []
    },
    {
      "cell_type": "code",
      "metadata": {
        "id": "N-PPHdoEzzud"
      },
      "source": [
        "resta(1, 2)"
      ],
      "execution_count": null,
      "outputs": []
    },
    {
      "cell_type": "code",
      "metadata": {
        "id": "8HpsZar9z0v6"
      },
      "source": [
        "resta(2, 1)"
      ],
      "execution_count": null,
      "outputs": []
    },
    {
      "cell_type": "markdown",
      "metadata": {
        "id": "MprBungTz6eG"
      },
      "source": [
        "**Cosas importantes para recordar**\n",
        "\n",
        "- Los argumentos **default** deberían ir después de los argumentos **no-default**\n",
        "- Argumentos **keyword** deberían ir después de los **positional**\n",
        "- Los argumentos **default** son opcionales\n"
      ]
    },
    {
      "cell_type": "code",
      "metadata": {
        "id": "5v7h_eVRz15w"
      },
      "source": [
        "def resta(y=5, x):\n",
        "    return x - y"
      ],
      "execution_count": null,
      "outputs": []
    },
    {
      "cell_type": "code",
      "metadata": {
        "id": "jxNoF-mZUEEi"
      },
      "source": [
        "def resta(x, y=5):\n",
        "    return x - y"
      ],
      "execution_count": null,
      "outputs": []
    },
    {
      "cell_type": "code",
      "metadata": {
        "id": "XLlW0rdy0-Fg"
      },
      "source": [
        "resta(x=5, 2)"
      ],
      "execution_count": null,
      "outputs": []
    },
    {
      "cell_type": "code",
      "metadata": {
        "id": "cryQ2TLM1I_f"
      },
      "source": [
        "resta(2, x=5)"
      ],
      "execution_count": null,
      "outputs": []
    },
    {
      "cell_type": "code",
      "metadata": {
        "id": "VCTwhY5MUTK8"
      },
      "source": [
        "resta(2, y=5)"
      ],
      "execution_count": null,
      "outputs": []
    },
    {
      "cell_type": "markdown",
      "source": [
        "# Temas avanzados\n",
        "\n",
        "*   Lambda (útiles en pandas y spark)\n",
        "*   Higher-order (funciones que usan otras funciones, funciones que toman funciones como argumentos, funciones que regresan una función)\n",
        "* Nested (funciones definidas dentro de otras funciones)\n",
        "* Decorators: extienden el comportamiento de otra función (sin tener que modificar manualmente la función)\n",
        "\n",
        "\n"
      ],
      "metadata": {
        "id": "DEgqYd6HvY7s"
      }
    },
    {
      "cell_type": "code",
      "source": [],
      "metadata": {
        "id": "tDAugiQ9dbAD"
      },
      "execution_count": null,
      "outputs": []
    }
  ]
}