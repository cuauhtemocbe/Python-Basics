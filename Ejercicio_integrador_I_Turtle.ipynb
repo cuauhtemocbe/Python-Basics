{
  "nbformat": 4,
  "nbformat_minor": 0,
  "metadata": {
    "colab": {
      "provenance": [],
      "toc_visible": true,
      "authorship_tag": "ABX9TyM6WC3a4bAVlb7lWNDS0Wqw",
      "include_colab_link": true
    },
    "kernelspec": {
      "name": "python3",
      "display_name": "Python 3"
    },
    "language_info": {
      "name": "python"
    }
  },
  "cells": [
    {
      "cell_type": "markdown",
      "metadata": {
        "id": "view-in-github",
        "colab_type": "text"
      },
      "source": [
        "<a href=\"https://colab.research.google.com/github/cuauhtemocbe/Python-Basics/blob/main/Ejercicio_integrador_I_Turtle.ipynb\" target=\"_parent\"><img src=\"https://colab.research.google.com/assets/colab-badge.svg\" alt=\"Open In Colab\"/></a>"
      ]
    },
    {
      "cell_type": "markdown",
      "metadata": {
        "id": "xHjNLwNhGb3k"
      },
      "source": [
        "# Turtle"
      ]
    },
    {
      "cell_type": "markdown",
      "metadata": {
        "id": "ndE5mPnbGhLY"
      },
      "source": [
        "## Instalación"
      ]
    },
    {
      "cell_type": "code",
      "metadata": {
        "id": "435lfi_ORLDZ",
        "collapsed": true,
        "outputId": "d716419a-5c06-4ea2-a200-90c337e2ef1c",
        "colab": {
          "base_uri": "https://localhost:8080/"
        }
      },
      "source": [
        "# Turtle\n",
        "!pip3 install ColabTurtle"
      ],
      "execution_count": 1,
      "outputs": [
        {
          "output_type": "stream",
          "name": "stdout",
          "text": [
            "Collecting ColabTurtle\n",
            "\u001b[33m  WARNING: Retrying (Retry(total=4, connect=None, read=None, redirect=None, status=None)) after connection broken by 'ProtocolError('Connection aborted.', RemoteDisconnected('Remote end closed connection without response'))': /packages/08/6f/619066317c24cd988979ad1b8c7b324c09ee1c408bfd88926889d6a62d99/ColabTurtle-2.1.0.tar.gz\u001b[0m\u001b[33m\n",
            "\u001b[0m  Downloading ColabTurtle-2.1.0.tar.gz (6.8 kB)\n",
            "  Preparing metadata (setup.py) ... \u001b[?25l\u001b[?25hdone\n",
            "Building wheels for collected packages: ColabTurtle\n",
            "  Building wheel for ColabTurtle (setup.py) ... \u001b[?25l\u001b[?25hdone\n",
            "  Created wheel for ColabTurtle: filename=ColabTurtle-2.1.0-py3-none-any.whl size=7642 sha256=0920f1929ab319617ba45197fc351a5cabae563aa66ac9954cf5fdc22f49a6b6\n",
            "  Stored in directory: /root/.cache/pip/wheels/5b/86/e8/54f5c8c853606e3a3060bb2e60363cbed632374a12e0f33ffc\n",
            "Successfully built ColabTurtle\n",
            "Installing collected packages: ColabTurtle\n",
            "Successfully installed ColabTurtle-2.1.0\n"
          ]
        }
      ]
    },
    {
      "cell_type": "markdown",
      "metadata": {
        "id": "f8kP1cydC3av"
      },
      "source": [
        "\"Turtle\" es una turtle es una libreria gráfica mediante coordenadas relativas. <br>\n",
        "\n",
        "Para usarlo es necesario crear una ventana por separado (screen) para poder ejecutar cada comando de dibujo. <br>"
      ]
    },
    {
      "cell_type": "code",
      "source": [
        "from ColabTurtle.Turtle import *"
      ],
      "metadata": {
        "id": "99epYGkOPnT6"
      },
      "execution_count": 2,
      "outputs": []
    },
    {
      "cell_type": "code",
      "metadata": {
        "id": "WhVSrohKRJ7b",
        "collapsed": true,
        "outputId": "97e11405-25a8-422f-b405-d464b5f33a5a",
        "colab": {
          "base_uri": "https://localhost:8080/",
          "height": 885
        }
      },
      "source": [
        "from ColabTurtle.Turtle import *\n",
        "\n",
        "initializeTurtle(initial_speed=7)\n",
        "colors_list = ['red', 'purple', 'blue', 'green', 'orange', 'yellow']\n",
        "bgcolor('black') # Pantalla sea de color negro\n",
        "\n",
        "for value in range(360): # Ciclo for\n",
        "  # Se ejecuta todo este bloque\n",
        "  pencolor(colors_list[value%6]) # obtenemos los índices: 0-5 y nos regresa el color que corresponda\n",
        "  width(int(value/100) + 1) # va a tener valores de 1, 2, 3 o 4\n",
        "  forward(value/1.5) #\n",
        "  left(59) #"
      ],
      "execution_count": 3,
      "outputs": [
        {
          "output_type": "display_data",
          "data": {
            "text/plain": [
              "<IPython.core.display.HTML object>"
            ],
            "text/html": [
              "\n",
              "      <svg width=\"800\" height=\"500\">\n",
              "        <rect width=\"100%\" height=\"100%\" fill=\"black\"/>\n",
              "        <line x1=\"400\" y1=\"250\" x2=\"400.0\" y2=\"250.0\" stroke-linecap=\"round\" style=\"stroke:red;stroke-width:1\"/><line x1=\"400.0\" y1=\"250.0\" x2=\"399.429\" y2=\"249.657\" stroke-linecap=\"round\" style=\"stroke:purple;stroke-width:1\"/><line x1=\"399.429\" y1=\"249.657\" x2=\"398.252\" y2=\"250.283\" stroke-linecap=\"round\" style=\"stroke:blue;stroke-width:1\"/><line x1=\"398.252\" y1=\"250.283\" x2=\"398.147\" y2=\"252.28\" stroke-linecap=\"round\" style=\"stroke:green;stroke-width:1\"/><line x1=\"398.147\" y1=\"252.28\" x2=\"400.358\" y2=\"253.771\" stroke-linecap=\"round\" style=\"stroke:orange;stroke-width:1\"/><line x1=\"400.358\" y1=\"253.771\" x2=\"403.379\" y2=\"252.362\" stroke-linecap=\"round\" style=\"stroke:yellow;stroke-width:1\"/><line x1=\"403.379\" y1=\"252.362\" x2=\"403.797\" y2=\"248.384\" stroke-linecap=\"round\" style=\"stroke:red;stroke-width:1\"/><line x1=\"403.797\" y1=\"248.384\" x2=\"400.07\" y2=\"245.576\" stroke-linecap=\"round\" style=\"stroke:purple;stroke-width:1\"/><line x1=\"400.07\" y1=\"245.576\" x2=\"395.125\" y2=\"247.574\" stroke-linecap=\"round\" style=\"stroke:blue;stroke-width:1\"/><line x1=\"395.125\" y1=\"247.574\" x2=\"394.186\" y2=\"253.5\" stroke-linecap=\"round\" style=\"stroke:green;stroke-width:1\"/><line x1=\"394.186\" y1=\"253.5\" x2=\"399.293\" y2=\"257.785\" stroke-linecap=\"round\" style=\"stroke:orange;stroke-width:1\"/><line x1=\"399.293\" y1=\"257.785\" x2=\"406.227\" y2=\"255.398\" stroke-linecap=\"round\" style=\"stroke:yellow;stroke-width:1\"/><line x1=\"406.227\" y1=\"255.398\" x2=\"407.89\" y2=\"247.573\" stroke-linecap=\"round\" style=\"stroke:red;stroke-width:1\"/><line x1=\"407.89\" y1=\"247.573\" x2=\"401.552\" y2=\"241.662\" stroke-linecap=\"round\" style=\"stroke:purple;stroke-width:1\"/><line x1=\"401.552\" y1=\"241.662\" x2=\"392.58\" y2=\"244.235\" stroke-linecap=\"round\" style=\"stroke:blue;stroke-width:1\"/><line x1=\"392.58\" y1=\"244.235\" x2=\"389.992\" y2=\"253.894\" stroke-linecap=\"round\" style=\"stroke:green;stroke-width:1\"/><line x1=\"389.992\" y1=\"253.894\" x2=\"397.402\" y2=\"261.567\" stroke-linecap=\"round\" style=\"stroke:orange;stroke-width:1\"/><line x1=\"397.402\" y1=\"261.567\" x2=\"408.445\" y2=\"259.018\" stroke-linecap=\"round\" style=\"stroke:yellow;stroke-width:1\"/><line x1=\"408.445\" y1=\"259.018\" x2=\"412.153\" y2=\"247.605\" stroke-linecap=\"round\" style=\"stroke:red;stroke-width:1\"/><line x1=\"412.153\" y1=\"247.605\" x2=\"403.843\" y2=\"238.045\" stroke-linecap=\"round\" style=\"stroke:purple;stroke-width:1\"/><line x1=\"403.843\" y1=\"238.045\" x2=\"390.712\" y2=\"240.36\" stroke-linecap=\"round\" style=\"stroke:blue;stroke-width:1\"/><line x1=\"390.712\" y1=\"240.36\" x2=\"385.695\" y2=\"253.43\" stroke-linecap=\"round\" style=\"stroke:green;stroke-width:1\"/><line x1=\"385.695\" y1=\"253.43\" x2=\"394.725\" y2=\"264.987\" stroke-linecap=\"round\" style=\"stroke:orange;stroke-width:1\"/><line x1=\"394.725\" y1=\"264.987\" x2=\"409.944\" y2=\"263.118\" stroke-linecap=\"round\" style=\"stroke:yellow;stroke-width:1\"/><line x1=\"409.944\" y1=\"263.118\" x2=\"416.452\" y2=\"248.501\" stroke-linecap=\"round\" style=\"stroke:red;stroke-width:1\"/><line x1=\"416.452\" y1=\"248.501\" x2=\"406.892\" y2=\"234.848\" stroke-linecap=\"round\" style=\"stroke:purple;stroke-width:1\"/><line x1=\"406.892\" y1=\"234.848\" x2=\"389.601\" y2=\"236.057\" stroke-linecap=\"round\" style=\"stroke:blue;stroke-width:1\"/><line x1=\"389.601\" y1=\"236.057\" x2=\"381.429\" y2=\"252.095\" stroke-linecap=\"round\" style=\"stroke:green;stroke-width:1\"/><line x1=\"381.429\" y1=\"252.095\" x2=\"391.321\" y2=\"267.925\" stroke-linecap=\"round\" style=\"stroke:orange;stroke-width:1\"/><line x1=\"391.321\" y1=\"267.925\" x2=\"410.651\" y2=\"267.588\" stroke-linecap=\"round\" style=\"stroke:yellow;stroke-width:1\"/><line x1=\"410.651\" y1=\"267.588\" x2=\"420.651\" y2=\"250.267\" stroke-linecap=\"round\" style=\"stroke:red;stroke-width:1\"/><line x1=\"420.651\" y1=\"250.267\" x2=\"410.632\" y2=\"232.192\" stroke-linecap=\"round\" style=\"stroke:purple;stroke-width:1\"/><line x1=\"410.632\" y1=\"232.192\" x2=\"389.312\" y2=\"231.447\" stroke-linecap=\"round\" style=\"stroke:blue;stroke-width:1\"/><line x1=\"389.312\" y1=\"231.447\" x2=\"377.33\" y2=\"249.898\" stroke-linecap=\"round\" style=\"stroke:green;stroke-width:1\"/><line x1=\"377.33\" y1=\"249.898\" x2=\"387.266\" y2=\"270.271\" stroke-linecap=\"round\" style=\"stroke:orange;stroke-width:1\"/><line x1=\"387.266\" y1=\"270.271\" x2=\"410.511\" y2=\"272.305\" stroke-linecap=\"round\" style=\"stroke:yellow;stroke-width:1\"/><line x1=\"410.511\" y1=\"272.305\" x2=\"424.618\" y2=\"252.889\" stroke-linecap=\"round\" style=\"stroke:red;stroke-width:1\"/><line x1=\"424.618\" y1=\"252.889\" x2=\"414.98\" y2=\"230.183\" stroke-linecap=\"round\" style=\"stroke:purple;stroke-width:1\"/><line x1=\"414.98\" y1=\"230.183\" x2=\"389.893\" y2=\"226.657\" stroke-linecap=\"round\" style=\"stroke:blue;stroke-width:1\"/><line x1=\"389.893\" y1=\"226.657\" x2=\"373.531\" y2=\"246.863\" stroke-linecap=\"round\" style=\"stroke:green;stroke-width:1\"/><line x1=\"373.531\" y1=\"246.863\" x2=\"382.652\" y2=\"271.921\" stroke-linecap=\"round\" style=\"stroke:orange;stroke-width:1\"/><line x1=\"382.652\" y1=\"271.921\" x2=\"409.483\" y2=\"277.136\" stroke-linecap=\"round\" style=\"stroke:yellow;stroke-width:1\"/><line x1=\"409.483\" y1=\"277.136\" x2=\"428.219\" y2=\"256.328\" stroke-linecap=\"round\" style=\"stroke:red;stroke-width:1\"/><line x1=\"428.219\" y1=\"256.328\" x2=\"419.838\" y2=\"228.914\" stroke-linecap=\"round\" style=\"stroke:purple;stroke-width:1\"/><line x1=\"419.838\" y1=\"228.914\" x2=\"391.376\" y2=\"221.818\" stroke-linecap=\"round\" style=\"stroke:blue;stroke-width:1\"/><line x1=\"391.376\" y1=\"221.818\" x2=\"370.163\" y2=\"243.031\" stroke-linecap=\"round\" style=\"stroke:green;stroke-width:1\"/><line x1=\"370.163\" y1=\"243.031\" x2=\"377.582\" y2=\"272.787\" stroke-linecap=\"round\" style=\"stroke:orange;stroke-width:1\"/><line x1=\"377.582\" y1=\"272.787\" x2=\"407.546\" y2=\"281.948\" stroke-linecap=\"round\" style=\"stroke:yellow;stroke-width:1\"/><line x1=\"407.546\" y1=\"281.948\" x2=\"431.327\" y2=\"260.536\" stroke-linecap=\"round\" style=\"stroke:red;stroke-width:1\"/><line x1=\"431.327\" y1=\"260.536\" x2=\"425.094\" y2=\"228.47\" stroke-linecap=\"round\" style=\"stroke:purple;stroke-width:1\"/><line x1=\"425.094\" y1=\"228.47\" x2=\"393.771\" y2=\"217.069\" stroke-linecap=\"round\" style=\"stroke:blue;stroke-width:1\"/><line x1=\"393.771\" y1=\"217.069\" x2=\"367.348\" y2=\"238.466\" stroke-linecap=\"round\" style=\"stroke:green;stroke-width:1\"/><line x1=\"367.348\" y1=\"238.466\" x2=\"372.173\" y2=\"272.795\" stroke-linecap=\"round\" style=\"stroke:orange;stroke-width:1\"/><line x1=\"372.173\" y1=\"272.795\" x2=\"404.698\" y2=\"286.601\" stroke-linecap=\"round\" style=\"stroke:yellow;stroke-width:1\"/><line x1=\"404.698\" y1=\"286.601\" x2=\"433.823\" y2=\"265.441\" stroke-linecap=\"round\" style=\"stroke:red;stroke-width:1\"/><line x1=\"433.823\" y1=\"265.441\" x2=\"430.627\" y2=\"228.914\" stroke-linecap=\"round\" style=\"stroke:purple;stroke-width:1\"/><line x1=\"430.627\" y1=\"228.914\" x2=\"397.072\" y2=\"212.548\" stroke-linecap=\"round\" style=\"stroke:blue;stroke-width:1\"/>\n",
              "        <g visibility=visible transform=\"rotate(237,397.072,212.548) translate(379.072, 194.548)\">\n",
              "<path style=\" stroke:none;fill-rule:evenodd;fill:blue;fill-opacity:1;\" d=\"M 18.214844 0.632812 C 16.109375 1.800781 15.011719 4.074219 15.074219 7.132812 L 15.085938 7.652344 L 14.785156 7.496094 C 13.476562 6.824219 11.957031 6.671875 10.40625 7.066406 C 8.46875 7.550781 6.515625 9.15625 4.394531 11.992188 C 3.0625 13.777344 2.679688 14.636719 3.042969 15.027344 L 3.15625 15.152344 L 3.519531 15.152344 C 4.238281 15.152344 4.828125 14.886719 8.1875 13.039062 C 9.386719 12.378906 10.371094 11.839844 10.378906 11.839844 C 10.386719 11.839844 10.355469 11.929688 10.304688 12.035156 C 9.832031 13.09375 9.257812 14.820312 8.96875 16.078125 C 7.914062 20.652344 8.617188 24.53125 11.070312 27.660156 C 11.351562 28.015625 11.363281 27.914062 10.972656 28.382812 C 8.925781 30.84375 7.945312 33.28125 8.238281 35.1875 C 8.289062 35.527344 8.28125 35.523438 8.917969 35.523438 C 10.941406 35.523438 13.074219 34.207031 15.136719 31.6875 C 15.359375 31.417969 15.328125 31.425781 15.5625 31.574219 C 16.292969 32.042969 18.023438 32.964844 18.175781 32.964844 C 18.335938 32.964844 19.941406 32.210938 20.828125 31.71875 C 20.996094 31.625 21.136719 31.554688 21.136719 31.558594 C 21.203125 31.664062 21.898438 32.414062 22.222656 32.730469 C 23.835938 34.300781 25.5625 35.132812 27.582031 35.300781 C 27.90625 35.328125 27.9375 35.308594 28.007812 34.984375 C 28.382812 33.242188 27.625 30.925781 25.863281 28.425781 L 25.542969 27.96875 L 25.699219 27.785156 C 28.945312 23.960938 29.132812 18.699219 26.257812 11.96875 L 26.207031 11.84375 L 27.945312 12.703125 C 31.53125 14.476562 32.316406 14.800781 33.03125 14.800781 C 33.976562 14.800781 33.78125 13.9375 32.472656 12.292969 C 28.519531 7.355469 25.394531 5.925781 21.921875 7.472656 L 21.558594 7.636719 L 21.578125 7.542969 C 21.699219 6.992188 21.761719 5.742188 21.699219 5.164062 C 21.496094 3.296875 20.664062 1.964844 19.003906 0.855469 C 18.480469 0.503906 18.457031 0.5 18.214844 0.632812\"/>\n",
              "</g>\n",
              "      </svg>\n",
              "    "
            ]
          },
          "metadata": {}
        },
        {
          "output_type": "error",
          "ename": "KeyboardInterrupt",
          "evalue": "ignored",
          "traceback": [
            "\u001b[0;31m---------------------------------------------------------------------------\u001b[0m",
            "\u001b[0;31mKeyboardInterrupt\u001b[0m                         Traceback (most recent call last)",
            "\u001b[0;32m<ipython-input-3-67e93cec5c29>\u001b[0m in \u001b[0;36m<cell line: 7>\u001b[0;34m()\u001b[0m\n\u001b[1;32m      7\u001b[0m \u001b[0;32mfor\u001b[0m \u001b[0mvalue\u001b[0m \u001b[0;32min\u001b[0m \u001b[0mrange\u001b[0m\u001b[0;34m(\u001b[0m\u001b[0;36m360\u001b[0m\u001b[0;34m)\u001b[0m\u001b[0;34m:\u001b[0m \u001b[0;31m# Ciclo for\u001b[0m\u001b[0;34m\u001b[0m\u001b[0;34m\u001b[0m\u001b[0m\n\u001b[1;32m      8\u001b[0m   \u001b[0;31m# Se ejecuta todo este bloque\u001b[0m\u001b[0;34m\u001b[0m\u001b[0;34m\u001b[0m\u001b[0m\n\u001b[0;32m----> 9\u001b[0;31m   \u001b[0mpencolor\u001b[0m\u001b[0;34m(\u001b[0m\u001b[0mcolors_list\u001b[0m\u001b[0;34m[\u001b[0m\u001b[0mvalue\u001b[0m\u001b[0;34m%\u001b[0m\u001b[0;36m6\u001b[0m\u001b[0;34m]\u001b[0m\u001b[0;34m)\u001b[0m \u001b[0;31m# obtenemos los índices: 0-5 y nos regresa el color que corresponda\u001b[0m\u001b[0;34m\u001b[0m\u001b[0;34m\u001b[0m\u001b[0m\n\u001b[0m\u001b[1;32m     10\u001b[0m   \u001b[0mwidth\u001b[0m\u001b[0;34m(\u001b[0m\u001b[0mint\u001b[0m\u001b[0;34m(\u001b[0m\u001b[0mvalue\u001b[0m\u001b[0;34m/\u001b[0m\u001b[0;36m100\u001b[0m\u001b[0;34m)\u001b[0m \u001b[0;34m+\u001b[0m \u001b[0;36m1\u001b[0m\u001b[0;34m)\u001b[0m \u001b[0;31m# va a tener valores de 1, 2, 3 o 4\u001b[0m\u001b[0;34m\u001b[0m\u001b[0;34m\u001b[0m\u001b[0m\n\u001b[1;32m     11\u001b[0m   \u001b[0mforward\u001b[0m\u001b[0;34m(\u001b[0m\u001b[0mvalue\u001b[0m\u001b[0;34m/\u001b[0m\u001b[0;36m1.5\u001b[0m\u001b[0;34m)\u001b[0m \u001b[0;31m#\u001b[0m\u001b[0;34m\u001b[0m\u001b[0;34m\u001b[0m\u001b[0m\n",
            "\u001b[0;32m/usr/local/lib/python3.10/dist-packages/ColabTurtle/Turtle.py\u001b[0m in \u001b[0;36mcolor\u001b[0;34m(color, c2, c3)\u001b[0m\n\u001b[1;32m    410\u001b[0m \u001b[0;34m\u001b[0m\u001b[0m\n\u001b[1;32m    411\u001b[0m     \u001b[0mpen_color\u001b[0m \u001b[0;34m=\u001b[0m \u001b[0m_processColor\u001b[0m\u001b[0;34m(\u001b[0m\u001b[0mcolor\u001b[0m\u001b[0;34m)\u001b[0m\u001b[0;34m\u001b[0m\u001b[0;34m\u001b[0m\u001b[0m\n\u001b[0;32m--> 412\u001b[0;31m     \u001b[0m_updateDrawing\u001b[0m\u001b[0;34m(\u001b[0m\u001b[0;34m)\u001b[0m\u001b[0;34m\u001b[0m\u001b[0;34m\u001b[0m\u001b[0m\n\u001b[0m\u001b[1;32m    413\u001b[0m \u001b[0;34m\u001b[0m\u001b[0m\n\u001b[1;32m    414\u001b[0m \u001b[0mpencolor\u001b[0m \u001b[0;34m=\u001b[0m \u001b[0mcolor\u001b[0m\u001b[0;34m\u001b[0m\u001b[0;34m\u001b[0m\u001b[0m\n",
            "\u001b[0;32m/usr/local/lib/python3.10/dist-packages/ColabTurtle/Turtle.py\u001b[0m in \u001b[0;36m_updateDrawing\u001b[0;34m()\u001b[0m\n\u001b[1;32m    143\u001b[0m     \u001b[0;32mif\u001b[0m \u001b[0mdrawing_window\u001b[0m \u001b[0;34m==\u001b[0m \u001b[0;32mNone\u001b[0m\u001b[0;34m:\u001b[0m\u001b[0;34m\u001b[0m\u001b[0;34m\u001b[0m\u001b[0m\n\u001b[1;32m    144\u001b[0m         \u001b[0;32mraise\u001b[0m \u001b[0mAttributeError\u001b[0m\u001b[0;34m(\u001b[0m\u001b[0;34m\"Display has not been initialized yet. Call initializeTurtle() before using.\"\u001b[0m\u001b[0;34m)\u001b[0m\u001b[0;34m\u001b[0m\u001b[0;34m\u001b[0m\u001b[0m\n\u001b[0;32m--> 145\u001b[0;31m     \u001b[0mtime\u001b[0m\u001b[0;34m.\u001b[0m\u001b[0msleep\u001b[0m\u001b[0;34m(\u001b[0m\u001b[0m_speedToSec\u001b[0m\u001b[0;34m(\u001b[0m\u001b[0mturtle_speed\u001b[0m\u001b[0;34m)\u001b[0m\u001b[0;34m)\u001b[0m\u001b[0;34m\u001b[0m\u001b[0;34m\u001b[0m\u001b[0m\n\u001b[0m\u001b[1;32m    146\u001b[0m     \u001b[0mdrawing_window\u001b[0m\u001b[0;34m.\u001b[0m\u001b[0mupdate\u001b[0m\u001b[0;34m(\u001b[0m\u001b[0mHTML\u001b[0m\u001b[0;34m(\u001b[0m\u001b[0m_generateSvgDrawing\u001b[0m\u001b[0;34m(\u001b[0m\u001b[0;34m)\u001b[0m\u001b[0;34m)\u001b[0m\u001b[0;34m)\u001b[0m\u001b[0;34m\u001b[0m\u001b[0;34m\u001b[0m\u001b[0m\n\u001b[1;32m    147\u001b[0m \u001b[0;34m\u001b[0m\u001b[0m\n",
            "\u001b[0;31mKeyboardInterrupt\u001b[0m: "
          ]
        }
      ]
    },
    {
      "cell_type": "markdown",
      "metadata": {
        "id": "kQXgqnTmDXnj"
      },
      "source": [
        "Primero debemos crear esta pantalla, inicializando una variable para ella. <br>\n",
        "**Nota:** La asignación de un valor inicial se llama inicialización"
      ]
    },
    {
      "cell_type": "code",
      "metadata": {
        "id": "9u-YLfB_CCK3",
        "outputId": "4357ae57-7895-4166-9297-f9acfe8c0dec",
        "colab": {
          "base_uri": "https://localhost:8080/",
          "height": 522
        }
      },
      "source": [
        "initializeTurtle()\n",
        "bgcolor('green')"
      ],
      "execution_count": 4,
      "outputs": [
        {
          "output_type": "display_data",
          "data": {
            "text/plain": [
              "<IPython.core.display.HTML object>"
            ],
            "text/html": [
              "\n",
              "      <svg width=\"800\" height=\"500\">\n",
              "        <rect width=\"100%\" height=\"100%\" fill=\"green\"/>\n",
              "        \n",
              "        <g visibility=visible transform=\"rotate(360,400,250) translate(382, 232)\">\n",
              "<path style=\" stroke:none;fill-rule:evenodd;fill:white;fill-opacity:1;\" d=\"M 18.214844 0.632812 C 16.109375 1.800781 15.011719 4.074219 15.074219 7.132812 L 15.085938 7.652344 L 14.785156 7.496094 C 13.476562 6.824219 11.957031 6.671875 10.40625 7.066406 C 8.46875 7.550781 6.515625 9.15625 4.394531 11.992188 C 3.0625 13.777344 2.679688 14.636719 3.042969 15.027344 L 3.15625 15.152344 L 3.519531 15.152344 C 4.238281 15.152344 4.828125 14.886719 8.1875 13.039062 C 9.386719 12.378906 10.371094 11.839844 10.378906 11.839844 C 10.386719 11.839844 10.355469 11.929688 10.304688 12.035156 C 9.832031 13.09375 9.257812 14.820312 8.96875 16.078125 C 7.914062 20.652344 8.617188 24.53125 11.070312 27.660156 C 11.351562 28.015625 11.363281 27.914062 10.972656 28.382812 C 8.925781 30.84375 7.945312 33.28125 8.238281 35.1875 C 8.289062 35.527344 8.28125 35.523438 8.917969 35.523438 C 10.941406 35.523438 13.074219 34.207031 15.136719 31.6875 C 15.359375 31.417969 15.328125 31.425781 15.5625 31.574219 C 16.292969 32.042969 18.023438 32.964844 18.175781 32.964844 C 18.335938 32.964844 19.941406 32.210938 20.828125 31.71875 C 20.996094 31.625 21.136719 31.554688 21.136719 31.558594 C 21.203125 31.664062 21.898438 32.414062 22.222656 32.730469 C 23.835938 34.300781 25.5625 35.132812 27.582031 35.300781 C 27.90625 35.328125 27.9375 35.308594 28.007812 34.984375 C 28.382812 33.242188 27.625 30.925781 25.863281 28.425781 L 25.542969 27.96875 L 25.699219 27.785156 C 28.945312 23.960938 29.132812 18.699219 26.257812 11.96875 L 26.207031 11.84375 L 27.945312 12.703125 C 31.53125 14.476562 32.316406 14.800781 33.03125 14.800781 C 33.976562 14.800781 33.78125 13.9375 32.472656 12.292969 C 28.519531 7.355469 25.394531 5.925781 21.921875 7.472656 L 21.558594 7.636719 L 21.578125 7.542969 C 21.699219 6.992188 21.761719 5.742188 21.699219 5.164062 C 21.496094 3.296875 20.664062 1.964844 19.003906 0.855469 C 18.480469 0.503906 18.457031 0.5 18.214844 0.632812\"/>\n",
              "</g>\n",
              "      </svg>\n",
              "    "
            ]
          },
          "metadata": {}
        }
      ]
    },
    {
      "cell_type": "markdown",
      "metadata": {
        "id": "VcidcF1pEHVm"
      },
      "source": [
        "La tortuta, que es un objeto, le podemos dar órdenes de movimiento (avance, retroceso, giro, etc)."
      ]
    },
    {
      "cell_type": "markdown",
      "metadata": {
        "id": "dXfZ7BhUEKw7"
      },
      "source": [
        "El comando left() gira a la tortuta en el lugar el valor dado, en grados, en el sentido contrario a las agujas del reloj"
      ]
    },
    {
      "cell_type": "markdown",
      "metadata": {
        "id": "ZtByWR-sEoIn"
      },
      "source": [
        "El comando right() la girará en el sentido de las agujas del reloj"
      ]
    },
    {
      "cell_type": "code",
      "metadata": {
        "id": "aCC4O2aFCUzZ",
        "outputId": "8341ef9e-a085-4ea1-bf8e-c83b6599ba06",
        "colab": {
          "base_uri": "https://localhost:8080/",
          "height": 522
        }
      },
      "source": [
        "initializeTurtle(initial_speed=5)\n",
        "forward(100) # Avance\n",
        "left(90)  # Gira sentido contrario manecillas reloj\n",
        "forward(200)\n",
        "right(90)\n",
        "forward(70)\n",
        "pencolor('red')\n",
        "right(45)\n",
        "forward(60)\n",
        "right(90)\n",
        "pencolor('blue')\n",
        "right(30)\n",
        "width(2)\n",
        "forward(200)"
      ],
      "execution_count": 5,
      "outputs": [
        {
          "output_type": "display_data",
          "data": {
            "text/plain": [
              "<IPython.core.display.HTML object>"
            ],
            "text/html": [
              "\n",
              "      <svg width=\"800\" height=\"500\">\n",
              "        <rect width=\"100%\" height=\"100%\" fill=\"black\"/>\n",
              "        <line x1=\"400\" y1=\"250\" x2=\"400.0\" y2=\"150.0\" stroke-linecap=\"round\" style=\"stroke:white;stroke-width:4\"/><line x1=\"400.0\" y1=\"150.0\" x2=\"200.0\" y2=\"150.0\" stroke-linecap=\"round\" style=\"stroke:white;stroke-width:4\"/><line x1=\"200.0\" y1=\"150.0\" x2=\"200.0\" y2=\"80.0\" stroke-linecap=\"round\" style=\"stroke:white;stroke-width:4\"/><line x1=\"200.0\" y1=\"80.0\" x2=\"242.426\" y2=\"37.574\" stroke-linecap=\"round\" style=\"stroke:red;stroke-width:4\"/><line x1=\"242.426\" y1=\"37.574\" x2=\"294.19\" y2=\"230.759\" stroke-linecap=\"round\" style=\"stroke:blue;stroke-width:2\"/>\n",
              "        <g visibility=visible transform=\"rotate(165,294.19,230.759) translate(276.19, 212.759)\">\n",
              "<path style=\" stroke:none;fill-rule:evenodd;fill:blue;fill-opacity:1;\" d=\"M 18.214844 0.632812 C 16.109375 1.800781 15.011719 4.074219 15.074219 7.132812 L 15.085938 7.652344 L 14.785156 7.496094 C 13.476562 6.824219 11.957031 6.671875 10.40625 7.066406 C 8.46875 7.550781 6.515625 9.15625 4.394531 11.992188 C 3.0625 13.777344 2.679688 14.636719 3.042969 15.027344 L 3.15625 15.152344 L 3.519531 15.152344 C 4.238281 15.152344 4.828125 14.886719 8.1875 13.039062 C 9.386719 12.378906 10.371094 11.839844 10.378906 11.839844 C 10.386719 11.839844 10.355469 11.929688 10.304688 12.035156 C 9.832031 13.09375 9.257812 14.820312 8.96875 16.078125 C 7.914062 20.652344 8.617188 24.53125 11.070312 27.660156 C 11.351562 28.015625 11.363281 27.914062 10.972656 28.382812 C 8.925781 30.84375 7.945312 33.28125 8.238281 35.1875 C 8.289062 35.527344 8.28125 35.523438 8.917969 35.523438 C 10.941406 35.523438 13.074219 34.207031 15.136719 31.6875 C 15.359375 31.417969 15.328125 31.425781 15.5625 31.574219 C 16.292969 32.042969 18.023438 32.964844 18.175781 32.964844 C 18.335938 32.964844 19.941406 32.210938 20.828125 31.71875 C 20.996094 31.625 21.136719 31.554688 21.136719 31.558594 C 21.203125 31.664062 21.898438 32.414062 22.222656 32.730469 C 23.835938 34.300781 25.5625 35.132812 27.582031 35.300781 C 27.90625 35.328125 27.9375 35.308594 28.007812 34.984375 C 28.382812 33.242188 27.625 30.925781 25.863281 28.425781 L 25.542969 27.96875 L 25.699219 27.785156 C 28.945312 23.960938 29.132812 18.699219 26.257812 11.96875 L 26.207031 11.84375 L 27.945312 12.703125 C 31.53125 14.476562 32.316406 14.800781 33.03125 14.800781 C 33.976562 14.800781 33.78125 13.9375 32.472656 12.292969 C 28.519531 7.355469 25.394531 5.925781 21.921875 7.472656 L 21.558594 7.636719 L 21.578125 7.542969 C 21.699219 6.992188 21.761719 5.742188 21.699219 5.164062 C 21.496094 3.296875 20.664062 1.964844 19.003906 0.855469 C 18.480469 0.503906 18.457031 0.5 18.214844 0.632812\"/>\n",
              "</g>\n",
              "      </svg>\n",
              "    "
            ]
          },
          "metadata": {}
        }
      ]
    },
    {
      "cell_type": "markdown",
      "source": [
        "## Triángulo"
      ],
      "metadata": {
        "id": "twfqrnPi5OKF"
      }
    },
    {
      "cell_type": "code",
      "source": [
        "initializeTurtle(initial_speed=5)\n",
        "# pencolor('red')\n",
        "forward(200) # Avance\n",
        "left(90)  # Gira sentido contrario manecillas reloj\n",
        "forward(200)\n",
        "left(90)\n",
        "forward(200)"
      ],
      "metadata": {
        "id": "prvbW01x5NkT",
        "outputId": "64025db3-e3fd-4343-c840-74858e8ff97e",
        "colab": {
          "base_uri": "https://localhost:8080/",
          "height": 522
        }
      },
      "execution_count": 21,
      "outputs": [
        {
          "output_type": "display_data",
          "data": {
            "text/plain": [
              "<IPython.core.display.HTML object>"
            ],
            "text/html": [
              "\n",
              "      <svg width=\"800\" height=\"500\">\n",
              "        <rect width=\"100%\" height=\"100%\" fill=\"black\"/>\n",
              "        <line x1=\"400\" y1=\"250\" x2=\"400.0\" y2=\"50.0\" stroke-linecap=\"round\" style=\"stroke:white;stroke-width:4\"/><line x1=\"400.0\" y1=\"50.0\" x2=\"200.0\" y2=\"50.0\" stroke-linecap=\"round\" style=\"stroke:white;stroke-width:4\"/><line x1=\"200.0\" y1=\"50.0\" x2=\"200.0\" y2=\"250.0\" stroke-linecap=\"round\" style=\"stroke:white;stroke-width:4\"/>\n",
              "        <g visibility=visible transform=\"rotate(180,200.0,250.0) translate(182.0, 232.0)\">\n",
              "<path style=\" stroke:none;fill-rule:evenodd;fill:white;fill-opacity:1;\" d=\"M 18.214844 0.632812 C 16.109375 1.800781 15.011719 4.074219 15.074219 7.132812 L 15.085938 7.652344 L 14.785156 7.496094 C 13.476562 6.824219 11.957031 6.671875 10.40625 7.066406 C 8.46875 7.550781 6.515625 9.15625 4.394531 11.992188 C 3.0625 13.777344 2.679688 14.636719 3.042969 15.027344 L 3.15625 15.152344 L 3.519531 15.152344 C 4.238281 15.152344 4.828125 14.886719 8.1875 13.039062 C 9.386719 12.378906 10.371094 11.839844 10.378906 11.839844 C 10.386719 11.839844 10.355469 11.929688 10.304688 12.035156 C 9.832031 13.09375 9.257812 14.820312 8.96875 16.078125 C 7.914062 20.652344 8.617188 24.53125 11.070312 27.660156 C 11.351562 28.015625 11.363281 27.914062 10.972656 28.382812 C 8.925781 30.84375 7.945312 33.28125 8.238281 35.1875 C 8.289062 35.527344 8.28125 35.523438 8.917969 35.523438 C 10.941406 35.523438 13.074219 34.207031 15.136719 31.6875 C 15.359375 31.417969 15.328125 31.425781 15.5625 31.574219 C 16.292969 32.042969 18.023438 32.964844 18.175781 32.964844 C 18.335938 32.964844 19.941406 32.210938 20.828125 31.71875 C 20.996094 31.625 21.136719 31.554688 21.136719 31.558594 C 21.203125 31.664062 21.898438 32.414062 22.222656 32.730469 C 23.835938 34.300781 25.5625 35.132812 27.582031 35.300781 C 27.90625 35.328125 27.9375 35.308594 28.007812 34.984375 C 28.382812 33.242188 27.625 30.925781 25.863281 28.425781 L 25.542969 27.96875 L 25.699219 27.785156 C 28.945312 23.960938 29.132812 18.699219 26.257812 11.96875 L 26.207031 11.84375 L 27.945312 12.703125 C 31.53125 14.476562 32.316406 14.800781 33.03125 14.800781 C 33.976562 14.800781 33.78125 13.9375 32.472656 12.292969 C 28.519531 7.355469 25.394531 5.925781 21.921875 7.472656 L 21.558594 7.636719 L 21.578125 7.542969 C 21.699219 6.992188 21.761719 5.742188 21.699219 5.164062 C 21.496094 3.296875 20.664062 1.964844 19.003906 0.855469 C 18.480469 0.503906 18.457031 0.5 18.214844 0.632812\"/>\n",
              "</g>\n",
              "      </svg>\n",
              "    "
            ]
          },
          "metadata": {}
        }
      ]
    },
    {
      "cell_type": "markdown",
      "source": [
        "# Cuadrado"
      ],
      "metadata": {
        "id": "lm06ZI5E6rCr"
      }
    },
    {
      "cell_type": "code",
      "metadata": {
        "id": "jjlHS4x8_dUv",
        "outputId": "6d1c92a6-a266-4764-8da0-8f9964579ab3",
        "colab": {
          "base_uri": "https://localhost:8080/"
        }
      },
      "source": [
        "colors = ['red', 'purple', 'blue', 'green', 'orange', 'yellow']\n",
        "print(colors[2])"
      ],
      "execution_count": 7,
      "outputs": [
        {
          "output_type": "stream",
          "name": "stdout",
          "text": [
            "blue\n"
          ]
        }
      ]
    },
    {
      "cell_type": "code",
      "source": [
        "initializeTurtle(initial_speed=10)\n",
        "\n",
        "n_sides = 6\n",
        "length = 50\n",
        "\n",
        "width(1)\n",
        "\n",
        "for i in range(n_sides):\n",
        "  forward(150)\n",
        "  left(360/n_sides)\n",
        "\n",
        "  for i in range(n_sides):\n",
        "    forward(50)\n",
        "    left(360/n_sides)\n",
        "\n",
        "    for i in range(n_sides):\n",
        "      forward(20)\n",
        "      left(360/n_sides)\n",
        "\n",
        "      for i in range(n_sides):\n",
        "          forward(10)\n",
        "          left(360/n_sides)"
      ],
      "metadata": {
        "id": "0FyhKIWk7Qbp",
        "outputId": "60b549d7-b86c-4630-e80d-1ce01bd87154",
        "colab": {
          "base_uri": "https://localhost:8080/",
          "height": 235
        }
      },
      "execution_count": 1,
      "outputs": [
        {
          "output_type": "error",
          "ename": "NameError",
          "evalue": "ignored",
          "traceback": [
            "\u001b[0;31m---------------------------------------------------------------------------\u001b[0m",
            "\u001b[0;31mNameError\u001b[0m                                 Traceback (most recent call last)",
            "\u001b[0;32m<ipython-input-1-14bd12b8076b>\u001b[0m in \u001b[0;36m<cell line: 1>\u001b[0;34m()\u001b[0m\n\u001b[0;32m----> 1\u001b[0;31m \u001b[0minitializeTurtle\u001b[0m\u001b[0;34m(\u001b[0m\u001b[0minitial_speed\u001b[0m\u001b[0;34m=\u001b[0m\u001b[0;36m10\u001b[0m\u001b[0;34m)\u001b[0m\u001b[0;34m\u001b[0m\u001b[0;34m\u001b[0m\u001b[0m\n\u001b[0m\u001b[1;32m      2\u001b[0m \u001b[0;34m\u001b[0m\u001b[0m\n\u001b[1;32m      3\u001b[0m \u001b[0mn_sides\u001b[0m \u001b[0;34m=\u001b[0m \u001b[0;36m6\u001b[0m\u001b[0;34m\u001b[0m\u001b[0;34m\u001b[0m\u001b[0m\n\u001b[1;32m      4\u001b[0m \u001b[0mlength\u001b[0m \u001b[0;34m=\u001b[0m \u001b[0;36m50\u001b[0m\u001b[0;34m\u001b[0m\u001b[0;34m\u001b[0m\u001b[0m\n\u001b[1;32m      5\u001b[0m \u001b[0;34m\u001b[0m\u001b[0m\n",
            "\u001b[0;31mNameError\u001b[0m: name 'initializeTurtle' is not defined"
          ]
        }
      ]
    },
    {
      "cell_type": "code",
      "metadata": {
        "id": "8wWzWh1vIgGO",
        "outputId": "ca288e5d-5801-4cfe-a567-ac6809cfe635",
        "colab": {
          "base_uri": "https://localhost:8080/",
          "height": 36
        }
      },
      "source": [
        "colors[-1]"
      ],
      "execution_count": 10,
      "outputs": [
        {
          "output_type": "execute_result",
          "data": {
            "text/plain": [
              "'yellow'"
            ],
            "application/vnd.google.colaboratory.intrinsic+json": {
              "type": "string"
            }
          },
          "metadata": {},
          "execution_count": 10
        }
      ]
    },
    {
      "cell_type": "code",
      "metadata": {
        "id": "5ePFaChkpbTi",
        "outputId": "c4d2d8b0-3cb7-4f16-ae5b-ddf6cc67d8cd",
        "colab": {
          "base_uri": "https://localhost:8080/"
        }
      },
      "source": [
        "for value in range(20): # Ciclo for\n",
        "  # Se ejecuta todo este bloque\n",
        "  print(value%6)\n",
        "  print('esto esta dentro del ciclo for')\n",
        "\n",
        "print('esto NO esta dentro del ciclo for')"
      ],
      "execution_count": 11,
      "outputs": [
        {
          "output_type": "stream",
          "name": "stdout",
          "text": [
            "0\n",
            "esto esta dentro del ciclo for\n",
            "1\n",
            "esto esta dentro del ciclo for\n",
            "2\n",
            "esto esta dentro del ciclo for\n",
            "3\n",
            "esto esta dentro del ciclo for\n",
            "4\n",
            "esto esta dentro del ciclo for\n",
            "5\n",
            "esto esta dentro del ciclo for\n",
            "0\n",
            "esto esta dentro del ciclo for\n",
            "1\n",
            "esto esta dentro del ciclo for\n",
            "2\n",
            "esto esta dentro del ciclo for\n",
            "3\n",
            "esto esta dentro del ciclo for\n",
            "4\n",
            "esto esta dentro del ciclo for\n",
            "5\n",
            "esto esta dentro del ciclo for\n",
            "0\n",
            "esto esta dentro del ciclo for\n",
            "1\n",
            "esto esta dentro del ciclo for\n",
            "2\n",
            "esto esta dentro del ciclo for\n",
            "3\n",
            "esto esta dentro del ciclo for\n",
            "4\n",
            "esto esta dentro del ciclo for\n",
            "5\n",
            "esto esta dentro del ciclo for\n",
            "0\n",
            "esto esta dentro del ciclo for\n",
            "1\n",
            "esto esta dentro del ciclo for\n",
            "esto NO esta dentro del ciclo for\n"
          ]
        }
      ]
    },
    {
      "cell_type": "code",
      "metadata": {
        "id": "1tfRiIA5cXyD",
        "outputId": "bd068389-41b1-4542-d525-9fdf5b27ab0f",
        "colab": {
          "base_uri": "https://localhost:8080/"
        }
      },
      "source": [
        "10%2"
      ],
      "execution_count": 12,
      "outputs": [
        {
          "output_type": "execute_result",
          "data": {
            "text/plain": [
              "0"
            ]
          },
          "metadata": {},
          "execution_count": 12
        }
      ]
    },
    {
      "cell_type": "code",
      "source": [
        "range(0, 20)"
      ],
      "metadata": {
        "id": "6kbz3PBAS2H7",
        "outputId": "b81d0066-f158-4912-f2fc-2cd1267718d2",
        "colab": {
          "base_uri": "https://localhost:8080/"
        }
      },
      "execution_count": 13,
      "outputs": [
        {
          "output_type": "execute_result",
          "data": {
            "text/plain": [
              "range(0, 20)"
            ]
          },
          "metadata": {},
          "execution_count": 13
        }
      ]
    },
    {
      "cell_type": "code",
      "metadata": {
        "id": "h7CsFR6ic1Ho",
        "outputId": "0d6ab0ec-a272-4961-96ba-aef0d4b2b4ed",
        "colab": {
          "base_uri": "https://localhost:8080/"
        }
      },
      "source": [
        "list(range(0, 20))"
      ],
      "execution_count": 14,
      "outputs": [
        {
          "output_type": "execute_result",
          "data": {
            "text/plain": [
              "[0, 1, 2, 3, 4, 5, 6, 7, 8, 9, 10, 11, 12, 13, 14, 15, 16, 17, 18, 19]"
            ]
          },
          "metadata": {},
          "execution_count": 14
        }
      ]
    },
    {
      "cell_type": "code",
      "metadata": {
        "id": "qoy483gq_oNJ",
        "outputId": "553da288-ab0e-4824-c315-382f69288eb3",
        "colab": {
          "base_uri": "https://localhost:8080/"
        }
      },
      "source": [
        "for value in range(20): # Ciclo for\n",
        "  # Se ejecuta todo este bloque\n",
        "  index = value%6\n",
        "  print(f'Índice {index} regresa el color {colors[value%6]}')"
      ],
      "execution_count": 15,
      "outputs": [
        {
          "output_type": "stream",
          "name": "stdout",
          "text": [
            "Índice 0 regresa el color red\n",
            "Índice 1 regresa el color purple\n",
            "Índice 2 regresa el color blue\n",
            "Índice 3 regresa el color green\n",
            "Índice 4 regresa el color orange\n",
            "Índice 5 regresa el color yellow\n",
            "Índice 0 regresa el color red\n",
            "Índice 1 regresa el color purple\n",
            "Índice 2 regresa el color blue\n",
            "Índice 3 regresa el color green\n",
            "Índice 4 regresa el color orange\n",
            "Índice 5 regresa el color yellow\n",
            "Índice 0 regresa el color red\n",
            "Índice 1 regresa el color purple\n",
            "Índice 2 regresa el color blue\n",
            "Índice 3 regresa el color green\n",
            "Índice 4 regresa el color orange\n",
            "Índice 5 regresa el color yellow\n",
            "Índice 0 regresa el color red\n",
            "Índice 1 regresa el color purple\n"
          ]
        }
      ]
    },
    {
      "cell_type": "code",
      "metadata": {
        "id": "QOT-sYXn_0Pt",
        "outputId": "2f1cc6af-c3aa-4401-f9f6-7a01437b7936",
        "colab": {
          "base_uri": "https://localhost:8080/"
        }
      },
      "source": [
        "for value in range(20):\n",
        "  print(f'value/100: {value/100}')\n",
        "  print(f'resultado: {int(value/100) + 1}')\n",
        "  print('\\n')"
      ],
      "execution_count": 16,
      "outputs": [
        {
          "output_type": "stream",
          "name": "stdout",
          "text": [
            "value/100: 0.0\n",
            "resultado: 1\n",
            "\n",
            "\n",
            "value/100: 0.01\n",
            "resultado: 1\n",
            "\n",
            "\n",
            "value/100: 0.02\n",
            "resultado: 1\n",
            "\n",
            "\n",
            "value/100: 0.03\n",
            "resultado: 1\n",
            "\n",
            "\n",
            "value/100: 0.04\n",
            "resultado: 1\n",
            "\n",
            "\n",
            "value/100: 0.05\n",
            "resultado: 1\n",
            "\n",
            "\n",
            "value/100: 0.06\n",
            "resultado: 1\n",
            "\n",
            "\n",
            "value/100: 0.07\n",
            "resultado: 1\n",
            "\n",
            "\n",
            "value/100: 0.08\n",
            "resultado: 1\n",
            "\n",
            "\n",
            "value/100: 0.09\n",
            "resultado: 1\n",
            "\n",
            "\n",
            "value/100: 0.1\n",
            "resultado: 1\n",
            "\n",
            "\n",
            "value/100: 0.11\n",
            "resultado: 1\n",
            "\n",
            "\n",
            "value/100: 0.12\n",
            "resultado: 1\n",
            "\n",
            "\n",
            "value/100: 0.13\n",
            "resultado: 1\n",
            "\n",
            "\n",
            "value/100: 0.14\n",
            "resultado: 1\n",
            "\n",
            "\n",
            "value/100: 0.15\n",
            "resultado: 1\n",
            "\n",
            "\n",
            "value/100: 0.16\n",
            "resultado: 1\n",
            "\n",
            "\n",
            "value/100: 0.17\n",
            "resultado: 1\n",
            "\n",
            "\n",
            "value/100: 0.18\n",
            "resultado: 1\n",
            "\n",
            "\n",
            "value/100: 0.19\n",
            "resultado: 1\n",
            "\n",
            "\n"
          ]
        }
      ]
    },
    {
      "cell_type": "code",
      "metadata": {
        "id": "4UXBidDN_-as",
        "outputId": "596ae600-c1c3-4f0a-898d-a57e2b9ea490",
        "colab": {
          "base_uri": "https://localhost:8080/"
        }
      },
      "source": [
        "for value in range(0, 360, 50):\n",
        "  print(value)\n",
        "  print(int(value/100) + 1)"
      ],
      "execution_count": 17,
      "outputs": [
        {
          "output_type": "stream",
          "name": "stdout",
          "text": [
            "0\n",
            "1\n",
            "50\n",
            "1\n",
            "100\n",
            "2\n",
            "150\n",
            "2\n",
            "200\n",
            "3\n",
            "250\n",
            "3\n",
            "300\n",
            "4\n",
            "350\n",
            "4\n"
          ]
        }
      ]
    },
    {
      "cell_type": "code",
      "metadata": {
        "id": "4N_Eie_XFTz4"
      },
      "source": [
        "from ColabTurtle.Turtle import * # importamos las funciones de la libreria ColabTurtle\n",
        "\n",
        "initializeTurtle(initial_speed=13) # Creamos la pantalla (lienzo)\n",
        "\n",
        "colors = ['red', 'purple', 'blue', 'green', 'orange', 'yellow'] # Creamos la lista y almacenamos los colores\n",
        "bgcolor('black') # Color de la pantalla\n",
        "\n",
        "for value in range(360): # Ciclo for\n",
        "  # Ejecuta todo lo que este dentro (línea 9 a la 13) del ciclo\n",
        "  pencolor(colors[value%6]) # Asignar un color a nuestra línea\n",
        "  width(int(value/100) + 1) # Darle un valor de anchura a la línea\n",
        "  forward(value/1.5) # Le decimos a nuestra tortuga, cuanto queremos que avance\n",
        "  left(25) # Que gire en sentido contrario a las manecillas del reloj\n",
        "\n",
        "print('Terminó el viaje de la tortuga ')"
      ],
      "execution_count": null,
      "outputs": []
    },
    {
      "cell_type": "markdown",
      "metadata": {
        "id": "C6B_GZFeLj2E"
      },
      "source": [
        "## Fuentes <br>\n",
        "https://github.com/tolgaatam/ColabTurtle<br>\n",
        "https://www.geeksforgeeks.org/turtle-programming-python/<br>\n",
        "https://realpython.com/beginners-guide-python-turtle/<br>"
      ]
    }
  ]
}