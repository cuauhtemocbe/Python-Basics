{
  "nbformat": 4,
  "nbformat_minor": 0,
  "metadata": {
    "colab": {
      "provenance": [],
      "authorship_tag": "ABX9TyMF29pSUqNt0GAImhtaKNTn",
      "include_colab_link": true
    },
    "kernelspec": {
      "name": "python3",
      "display_name": "Python 3"
    },
    "language_info": {
      "name": "python"
    }
  },
  "cells": [
    {
      "cell_type": "markdown",
      "metadata": {
        "id": "view-in-github",
        "colab_type": "text"
      },
      "source": [
        "<a href=\"https://colab.research.google.com/github/cuauhtemocbe/Python-Basics/blob/main/Wasabi.ipynb\" target=\"_parent\"><img src=\"https://colab.research.google.com/assets/colab-badge.svg\" alt=\"Open In Colab\"/></a>"
      ]
    },
    {
      "cell_type": "markdown",
      "source": [
        "# Wasabi\n",
        "\n",
        "Es una librería que nos permite crear unos prints más bonitos, ya sea cambiando el color o modificando el texto a **bold**."
      ],
      "metadata": {
        "id": "TKzHdezjR4Zl"
      }
    },
    {
      "cell_type": "markdown",
      "source": [
        "1. Instalaremos la librería con la siguiente instrucción"
      ],
      "metadata": {
        "id": "8tpAUuRESXCz"
      }
    },
    {
      "cell_type": "code",
      "source": [
        "!pip install wasabi"
      ],
      "metadata": {
        "id": "1xdajelhSWqO"
      },
      "execution_count": null,
      "outputs": []
    },
    {
      "cell_type": "markdown",
      "source": [
        "2. Importando la librería"
      ],
      "metadata": {
        "id": "-NJvvm_XSV9H"
      }
    },
    {
      "cell_type": "code",
      "execution_count": null,
      "metadata": {
        "id": "fHxEcwt6RzAH"
      },
      "outputs": [],
      "source": [
        "from wasabi import msg"
      ]
    },
    {
      "cell_type": "markdown",
      "source": [
        "3. Usando la librería para generar textos de diferentes tipos:\n",
        "- mensaje de éxito\n",
        "- mensaje de error\n",
        "- mensaje de advertencia\n",
        "- mensaje de información\n"
      ],
      "metadata": {
        "id": "y70m4c7gSizV"
      }
    },
    {
      "cell_type": "code",
      "source": [
        "msg.good(\"Success\")\n",
        "msg.fail(\"Error\")\n",
        "msg.warn(\"Warning\")\n",
        "msg.info(\"Info\")"
      ],
      "metadata": {
        "id": "AmLgqm-1SiXK"
      },
      "execution_count": null,
      "outputs": []
    },
    {
      "cell_type": "markdown",
      "source": [
        "4. Usando la librería para mostrar un mensaje de carga"
      ],
      "metadata": {
        "id": "n7Pqa2wXTfNe"
      }
    },
    {
      "cell_type": "code",
      "source": [
        "import time\n",
        "\n",
        "with msg.loading(\"Loading...\"):\n",
        "    time.sleep(2)\n",
        "msg.good(\"Successfully loaded something!\")"
      ],
      "metadata": {
        "id": "II0BoOTxS8XM"
      },
      "execution_count": null,
      "outputs": []
    },
    {
      "cell_type": "markdown",
      "source": [
        "5. Generando una tabla"
      ],
      "metadata": {
        "id": "_xXpiRhJTjKT"
      }
    },
    {
      "cell_type": "code",
      "source": [
        "from wasabi import table\n",
        "\n",
        "data = [(\"a1\", \"a2\", \"a3\"), (\"b1\", \"b2\", \"b3\")]\n",
        "header = (\"Column 1\", \"Column 2\", \"Column 3\")\n",
        "widths = (8, 9, 10)\n",
        "aligns = (\"r\", \"c\", \"l\")\n",
        "formatted = table(data, header=header, divider=True, widths=widths, aligns=aligns)"
      ],
      "metadata": {
        "id": "ZniRs8KrTFvO"
      },
      "execution_count": null,
      "outputs": []
    },
    {
      "cell_type": "code",
      "source": [
        "print(formatted)"
      ],
      "metadata": {
        "id": "RElOrOUnTkoR"
      },
      "execution_count": null,
      "outputs": []
    }
  ]
}