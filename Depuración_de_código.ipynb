{
  "nbformat": 4,
  "nbformat_minor": 0,
  "metadata": {
    "colab": {
      "provenance": [],
      "authorship_tag": "ABX9TyOZugPPJGXTM02NehKseymM",
      "include_colab_link": true
    },
    "kernelspec": {
      "name": "python3",
      "display_name": "Python 3"
    },
    "language_info": {
      "name": "python"
    }
  },
  "cells": [
    {
      "cell_type": "markdown",
      "metadata": {
        "id": "view-in-github",
        "colab_type": "text"
      },
      "source": [
        "<a href=\"https://colab.research.google.com/github/cuauhtemocbe/Python-Basics/blob/main/Depuraci%C3%B3n_de_c%C3%B3digo.ipynb\" target=\"_parent\"><img src=\"https://colab.research.google.com/assets/colab-badge.svg\" alt=\"Open In Colab\"/></a>"
      ]
    },
    {
      "cell_type": "markdown",
      "source": [
        "Código de prueba"
      ],
      "metadata": {
        "id": "X7nhuhd3aLoK"
      }
    },
    {
      "cell_type": "markdown",
      "source": [
        "# Depuración de código\n",
        "\n",
        "Quitar error del código. <br>\n",
        "\n",
        "Dentro de los errores más cómunes al escribir código se encuentran:\n",
        "1. Errores tipográficos o **sintácticos**:\n",
        "  *   Nombre incorrecto de una función\n",
        "  *   Nombre incorrecto de una variable\n",
        "  *   Falta de paréntesis o comillas\n",
        "  *   Palabras claves mal escritas\n",
        "\n",
        "Estos errores son detectados por el intérprete de Python antes de ejecutar un programa.\n",
        "\n",
        "2. Errores **lógicos**"
      ],
      "metadata": {
        "id": "B04w3OPKigMh"
      }
    },
    {
      "cell_type": "markdown",
      "source": [
        "# Built-in Exceptions\n",
        "Algunos errores de sintaxis nos mostrarán un error (\"Exceptions\") en la pantalla.\n",
        "\n",
        "\n",
        "- **NameError**: Ocurre cuando intetamos acceder a una variable o función que **aún no está definida**.\n",
        "- **SyntaxError:** EOL while scanning string literal. EOL (End of line). Python llegó al final de una línea mientras pasaba por una cadena de caracteres. Recuerda siempre cerrar las \"comillas\".\n",
        "- **SyntaxError:** unexpected EOF while parsing. Puede deberse a que no cerramos una función con un paréntesis."
      ],
      "metadata": {
        "id": "dAdHuWZUBJoz"
      }
    },
    {
      "cell_type": "markdown",
      "source": [
        "## NameError"
      ],
      "metadata": {
        "id": "Zl6rk5wmBRFx"
      }
    },
    {
      "cell_type": "markdown",
      "source": [
        "Al usar el nombre incorrecto de una función"
      ],
      "metadata": {
        "id": "v58yTr-akKmQ"
      }
    },
    {
      "cell_type": "code",
      "source": [
        "Print(\"Hello, world!\")"
      ],
      "metadata": {
        "id": "ijrDa4HpBUE-"
      },
      "execution_count": null,
      "outputs": []
    },
    {
      "cell_type": "markdown",
      "source": [
        "Al usar el nombre incorrecto de una variable"
      ],
      "metadata": {
        "id": "pd3OysxRkTra"
      }
    },
    {
      "cell_type": "code",
      "source": [
        "Libro = 'Drácula'\n",
        "print(libro)"
      ],
      "metadata": {
        "id": "AdR2Ssofkeml"
      },
      "execution_count": null,
      "outputs": []
    },
    {
      "cell_type": "markdown",
      "source": [
        "Ó no estar almacenada en el entorno de ejecucion (que no la hemos creado)"
      ],
      "metadata": {
        "id": "sjg5vjd-kfFn"
      }
    },
    {
      "cell_type": "code",
      "source": [
        "# superficie_bosque = 100\n",
        "print(superficie_bosque)"
      ],
      "metadata": {
        "id": "DhWMFChQlczD"
      },
      "execution_count": null,
      "outputs": []
    },
    {
      "cell_type": "markdown",
      "source": [
        "## SyntaxError\n",
        "Al no cerrar las comillas"
      ],
      "metadata": {
        "id": "T2AmzZCmBVAR"
      }
    },
    {
      "cell_type": "code",
      "source": [
        "print('Hola, mundo)"
      ],
      "metadata": {
        "id": "JPxsO3-RBWFs"
      },
      "execution_count": null,
      "outputs": []
    },
    {
      "cell_type": "markdown",
      "source": [
        "Al no cerrar paréntesis"
      ],
      "metadata": {
        "id": "VQBTbeoIBboe"
      }
    },
    {
      "cell_type": "code",
      "source": [
        "print('Hola, mundo'"
      ],
      "metadata": {
        "id": "PsffiqL9Bcna"
      },
      "execution_count": null,
      "outputs": []
    },
    {
      "cell_type": "markdown",
      "source": [
        "Al usar tipos distintos de comillas para abrir y cerrar"
      ],
      "metadata": {
        "id": "3Ojz0-AgkC2A"
      }
    },
    {
      "cell_type": "code",
      "source": [
        "print(\"Hola, mundo')"
      ],
      "metadata": {
        "id": "R85GUFbDkHL4"
      },
      "execution_count": null,
      "outputs": []
    },
    {
      "cell_type": "markdown",
      "source": [
        "# Ejercicio\n",
        "\n",
        "Depurar el código, para ejecutar el siguiente bloque de código SIN errores. <br>\n",
        "\n",
        "**Tips**\n",
        "- Revisa la secuencia del código\n",
        "- Revisa el nombre de las funciones\n",
        "- Revisa el nombre de las variables\n",
        "\n",
        "**Valor esperado:** 12.5664"
      ],
      "metadata": {
        "id": "90Hua-azBglp"
      }
    },
    {
      "cell_type": "code",
      "source": [
        "print(area_del_circulo)\n",
        "\n",
        "pi = 3.1416\n",
        "radio = 2\n",
        "\n",
        "area_circulo = pi * radio ** 2\n",
        "\n",
        "prinT('El área del circulo es: \")"
      ],
      "metadata": {
        "id": "6icetSB7BjZa"
      },
      "execution_count": null,
      "outputs": []
    }
  ]
}